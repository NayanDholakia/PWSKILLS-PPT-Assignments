{
 "cells": [
  {
   "cell_type": "code",
   "execution_count": null,
   "id": "dbbd66ae-a4a6-49bc-8a6c-edd9f83036f4",
   "metadata": {},
   "outputs": [],
   "source": [
    "\n",
    "\"\"\"💡 Given an array of integers nums and an integer target, return indices of the two numbers \n",
    "such that they add up to target.\n",
    "\n",
    "You may assume that each input would have exactly one solution, and you may not use the same element twice.\n",
    "\n",
    "You can return the answer in any order.\n",
    "\n",
    "**Example:**\n",
    "Input: nums = [2,7,11,15], target = 9\n",
    "Output0 [0,1]\n",
    "\n",
    "**Explanation:** Because nums[0] + nums[1] == 9, we return [0, 1]\"\"\"\n"
   ]
  },
  {
   "cell_type": "code",
   "execution_count": 1,
   "id": "4be44e0a-bd40-4cde-a254-e7cb9f6d2c07",
   "metadata": {},
   "outputs": [
    {
     "name": "stdout",
     "output_type": "stream",
     "text": [
      "[0, 1]\n"
     ]
    }
   ],
   "source": [
    "def twoSum(nums, target):\n",
    "    # Create a dictionary to store the complement of each number\n",
    "    complement_dict = {}\n",
    "\n",
    "    # Iterate through the array\n",
    "    for i, num in enumerate(nums):\n",
    "        # Check if the complement of the current number exists in the dictionary\n",
    "        complement = target - num\n",
    "        if complement in complement_dict:\n",
    "            # If the complement is found, return its index and the current index\n",
    "            return [complement_dict[complement], i]\n",
    "        else:\n",
    "            # Add the current number and its index to the dictionary\n",
    "            complement_dict[num] = i\n",
    "\n",
    "    # If no solution is found, return an empty list\n",
    "    return []\n",
    "\n",
    "# Example usage\n",
    "nums = [2, 7, 11, 15]\n",
    "target = 9\n",
    "result = twoSum(nums, target)\n",
    "print(result)"
   ]
  },
  {
   "cell_type": "code",
   "execution_count": 3,
   "id": "2be3ccb6-b793-4d95-9c0d-7eb6ebb14c22",
   "metadata": {},
   "outputs": [
    {
     "name": "stdout",
     "output_type": "stream",
     "text": [
      "[0, 1]\n"
     ]
    }
   ],
   "source": [
    "def twoSum(nums, target):\n",
    "    complement_dict = {num: i for i, num in enumerate(nums)}\n",
    "    return next((sorted([i, complement_dict[target - num]]) for i,\n",
    "                 num in enumerate(nums) if target - num in complement_dict), [])\n",
    "\n",
    "# Example usage\n",
    "nums = [2, 7, 11, 15]\n",
    "target = 9\n",
    "result = twoSum(nums, target)\n",
    "print(result)\n"
   ]
  },
  {
   "cell_type": "code",
   "execution_count": null,
   "id": "035bab03-6ccc-4f28-92a1-bba9e2bc953e",
   "metadata": {},
   "outputs": [],
   "source": [
    "\n",
    "\"\"\"💡 **Q2.** Given an integer array nums and an integer val, remove all occurrences of val in nums in-place. \n",
    "The order of the elements may be changed. Then return the number of elements in nums which are not equal to val.\n",
    "\n",
    "Consider the number of elements in nums which are not equal to val be k, to get accepted, you need \n",
    "to do the following things:\n",
    "\n",
    "- Change the array nums such that the first k elements of nums contain the elements which are not equal to val. \n",
    "The remaining elements of nums are not important as well as the size of nums.\n",
    "- Return k.\"\"\"\n"
   ]
  },
  {
   "cell_type": "code",
   "execution_count": 4,
   "id": "44921cca-f929-4279-9842-60c3e4ec789f",
   "metadata": {},
   "outputs": [
    {
     "name": "stdout",
     "output_type": "stream",
     "text": [
      "2\n",
      "[2, 2, 2, 3]\n"
     ]
    }
   ],
   "source": [
    "def removeElement(nums, val):\n",
    "    # Initialize two pointers: one for iterating through the array,\n",
    "    # and the other for keeping track of the current position to overwrite\n",
    "    i = 0\n",
    "    j = 0\n",
    "\n",
    "    # Iterate through the array\n",
    "    while i < len(nums):\n",
    "        # If the current element is not equal to val,\n",
    "        # overwrite it at the current position and increment the position\n",
    "        if nums[i] != val:\n",
    "            nums[j] = nums[i]\n",
    "            j += 1\n",
    "\n",
    "        # Move the first pointer to the next element\n",
    "        i += 1\n",
    "\n",
    "    # Return the number of elements that are not equal to val\n",
    "    return j\n",
    "\n",
    "# Example usage\n",
    "nums = [3, 2, 2, 3]\n",
    "val = 3\n",
    "result = removeElement(nums, val)\n",
    "print(result)  # Output: 2\n",
    "print(nums)    # Output: [2, 2, _, _]\n"
   ]
  },
  {
   "cell_type": "code",
   "execution_count": null,
   "id": "68f1ba38-aecb-4944-a74e-079d293b7b5a",
   "metadata": {},
   "outputs": [],
   "source": [
    "\n",
    "\"\"\"💡Q3. Given a sorted array of distinct integers and a target value, return the index if the target is found. \n",
    "If not,return the index where it would be if it were inserted in order.\n",
    "You must write an algorithm with O(log n) runtime complexity.\n",
    "\n",
    "**Example 1:**\n",
    "Input: nums = [1,3,5,6], target = 5\n",
    "\n",
    "Output: 2\"\"\"\n",
    "\n"
   ]
  },
  {
   "cell_type": "code",
   "execution_count": 5,
   "id": "94b15e02-09cd-4de5-a905-2ad8d4a00e7c",
   "metadata": {},
   "outputs": [
    {
     "name": "stdout",
     "output_type": "stream",
     "text": [
      "2\n"
     ]
    }
   ],
   "source": [
    "def searchInsert(nums, target):\n",
    "    left = 0\n",
    "    right = len(nums) - 1\n",
    "\n",
    "    while left <= right:\n",
    "        mid = left + (right - left) // 2\n",
    "\n",
    "        if nums[mid] == target:\n",
    "            return mid\n",
    "        elif nums[mid] < target:\n",
    "            left = mid + 1\n",
    "        else:\n",
    "            right = mid - 1\n",
    "\n",
    "    # If the target is not found, return the index where it would be inserted\n",
    "    return left\n",
    "\n",
    "# Example usage\n",
    "nums = [1, 3, 5, 6]\n",
    "target = 5\n",
    "result = searchInsert(nums, target)\n",
    "print(result)  # Output: 2\n"
   ]
  },
  {
   "cell_type": "code",
   "execution_count": null,
   "id": "3a48b4a9-fc4a-4785-bd85-e6ffdc8b7f4b",
   "metadata": {},
   "outputs": [],
   "source": [
    "\n",
    "\"\"\"💡 **Q4.** You are given a large integer represented as an integer array digits, where each digits[i] \n",
    "is the ith digit of the integer. The digits are ordered from most significant\n",
    "to least significant in left-to-right order.\n",
    "The large integer does not contain any leading 0's.\n",
    "\n",
    "Increment the large integer by one and return the resulting array of digits.\n",
    "\n",
    "**Example 1:**\n",
    "Input: digits = [1,2,3]\n",
    "Output: [1,2,4]\n",
    "\n",
    "**Explanation:** The array represents the integer 123.\n",
    "\n",
    "Incrementing by one gives 123 + 1 = 124.\n",
    "Thus, the result should be [1,2,4].\"\"\"\n",
    "\n"
   ]
  },
  {
   "cell_type": "code",
   "execution_count": 6,
   "id": "96cd0b7a-e23a-4f9b-a04a-6008058c8405",
   "metadata": {},
   "outputs": [
    {
     "name": "stdout",
     "output_type": "stream",
     "text": [
      "[1, 2, 4]\n"
     ]
    }
   ],
   "source": [
    "def plusOne(digits):\n",
    "    n = len(digits)\n",
    "\n",
    "    # Start from the least significant digit\n",
    "    for i in range(n - 1, -1, -1):\n",
    "        if digits[i] < 9:\n",
    "            # If the digit is less than 9, increment it and return the updated array\n",
    "            digits[i] += 1\n",
    "            return digits\n",
    "        else:\n",
    "            # If the digit is 9, set it to 0 and propagate the carry to the next digit\n",
    "            digits[i] = 0\n",
    "\n",
    "    # If all digits are 9, add a new leading digit 1\n",
    "    return [1] + digits\n",
    "\n",
    "# Example usage\n",
    "digits = [1, 2, 3]\n",
    "result = plusOne(digits)\n",
    "print(result)  # Output: [1, 2, 4]\n"
   ]
  },
  {
   "cell_type": "code",
   "execution_count": null,
   "id": "c3cef933-c428-4243-b469-2f0c35e79b08",
   "metadata": {},
   "outputs": [],
   "source": [
    "\n",
    "\"\"\"💡Q5. You are given two integer arrays nums1 and nums2, sorted in non-decreasing order, \n",
    "and two integers m and n, representing the number of elements in nums1 and nums2 respectively.\n",
    "\n",
    "Merge nums1 and nums2 into a single array sorted in non-decreasing order.\n",
    "\n",
    "The final sorted array should not be returned by the function, but instead be stored inside the array nums1.\n",
    "To accommodate this, nums1 has a length of m + n, where the first m elements denote\n",
    "the elements that should be merged, and the last n elements are set to 0 and should be ignored. \n",
    "nums2 has a length of n.\n",
    "\n",
    "**Example 1:**\n",
    "Input: nums1 = [1,2,3,0,0,0], m = 3, nums2 = [2,5,6], n = 3\n",
    "Output: [1,2,2,3,5,6]\n",
    "\n",
    "**Explanation:** The arrays we are merging are [1,2,3] and [2,5,6].\n",
    "The result of the merge is [1,2,2,3,5,6] with the underlined elements coming from nums1.\"\"\"\n",
    "\n"
   ]
  },
  {
   "cell_type": "code",
   "execution_count": 7,
   "id": "21794477-675b-417d-86d6-e95729e1dd36",
   "metadata": {},
   "outputs": [
    {
     "name": "stdout",
     "output_type": "stream",
     "text": [
      "[1, 2, 2, 3, 5, 6]\n"
     ]
    }
   ],
   "source": [
    "def merge(nums1, m, nums2, n):\n",
    "    # Start merging from the end of both arrays\n",
    "    i = m - 1\n",
    "    j = n - 1\n",
    "    k = m + n - 1\n",
    "\n",
    "    while i >= 0 and j >= 0:\n",
    "        if nums1[i] > nums2[j]:\n",
    "            nums1[k] = nums1[i]\n",
    "            i -= 1\n",
    "        else:\n",
    "            nums1[k] = nums2[j]\n",
    "            j -= 1\n",
    "        k -= 1\n",
    "\n",
    "    # Copy the remaining elements from nums2 if any\n",
    "    while j >= 0:\n",
    "        nums1[k] = nums2[j]\n",
    "        j -= 1\n",
    "        k -= 1\n",
    "\n",
    "    # The merged array is now sorted in non-decreasing order\n",
    "    return nums1\n",
    "\n",
    "# Example usage\n",
    "nums1 = [1, 2, 3, 0, 0, 0]\n",
    "m = 3\n",
    "nums2 = [2, 5, 6]\n",
    "n = 3\n",
    "result = merge(nums1, m, nums2, n)\n",
    "print(result)  # Output: [1, 2, 2, 3, 5, 6]\n"
   ]
  },
  {
   "cell_type": "raw",
   "id": "67869ced-3d88-4002-83e0-2863daeb7cc6",
   "metadata": {},
   "source": [
    "\n",
    "\"\"\"💡Q6. Given an integer array nums, return true if any value appears at least twice in the array, and return false if every element is distinct.\n",
    "\n",
    "**Example 1:**\n",
    "Input: nums = [1,2,3,1]\n",
    "\n",
    "Output: true\n",
    "\n"
   ]
  },
  {
   "cell_type": "code",
   "execution_count": 8,
   "id": "cbed800b-8fe9-47c1-bf91-bc6ef6c15135",
   "metadata": {},
   "outputs": [
    {
     "name": "stdout",
     "output_type": "stream",
     "text": [
      "True\n"
     ]
    }
   ],
   "source": [
    "def containsDuplicate(nums):\n",
    "    seen = set()\n",
    "\n",
    "    for num in nums:\n",
    "        if num in seen:\n",
    "            return True\n",
    "        seen.add(num)\n",
    "\n",
    "    return False\n",
    "\n",
    "# Example usage\n",
    "nums = [1, 2, 3, 1]\n",
    "result = containsDuplicate(nums)\n",
    "print(result)  # Output: True\n"
   ]
  },
  {
   "cell_type": "raw",
   "id": "cc02a97c-2862-4c28-b9b9-d279baf7f3d3",
   "metadata": {},
   "source": [
    "\n",
    "💡 **Q7.** Given an integer array nums, move all 0's to the end of it while maintaining the relative order of the nonzero elements.\n",
    "\n",
    "Note that you must do this in-place without making a copy of the array.\n",
    "\n",
    "**Example 1:**\n",
    "Input: nums = [0,1,0,3,12]\n",
    "Output: [1,3,12,0,0]\n"
   ]
  },
  {
   "cell_type": "code",
   "execution_count": 9,
   "id": "36f4a6fb-c696-4337-a929-46c59d78ff34",
   "metadata": {},
   "outputs": [
    {
     "name": "stdout",
     "output_type": "stream",
     "text": [
      "[1, 3, 12, 0, 0]\n"
     ]
    }
   ],
   "source": [
    "def moveZeroes(nums):\n",
    "    # Initialize a pointer to keep track of the position to insert non-zero elements\n",
    "    insert_pos = 0\n",
    "\n",
    "    # Iterate through the array\n",
    "    for num in nums:\n",
    "        if num != 0:\n",
    "            # If the current element is non-zero, move it to the insert position\n",
    "            nums[insert_pos] = num\n",
    "            insert_pos += 1\n",
    "\n",
    "    # Fill the remaining positions with zeros\n",
    "    while insert_pos < len(nums):\n",
    "        nums[insert_pos] = 0\n",
    "        insert_pos += 1\n",
    "\n",
    "    # The array now contains all zeros at the end while maintaining the order of non-zero elements\n",
    "    return nums\n",
    "\n",
    "# Example usage\n",
    "nums = [0, 1, 0, 3, 12]\n",
    "result = moveZeroes(nums)\n",
    "print(result)  # Output: [1, 3, 12, 0, 0]\n"
   ]
  },
  {
   "cell_type": "raw",
   "id": "674221db-006d-450c-9a65-ba4807ddab45",
   "metadata": {},
   "source": [
    "\n",
    "💡 **Q8.** You have a set of integers s, which originally contains all the numbers from 1 to n. Unfortunately, due to some error, one of the numbers in s got duplicated to another number in the set, which results in repetition of one number and loss of another number.\n",
    "\n",
    "You are given an integer array nums representing the data status of this set after the error.\n",
    "\n",
    "Find the number that occurs twice and the number that is missing and return them in the form of an array.\n",
    "\n",
    "**Example 1:**\n",
    "Input: nums = [1,2,2,4]\n",
    "Output: [2,3]\n",
    "\n"
   ]
  },
  {
   "cell_type": "code",
   "execution_count": 11,
   "id": "a49dfa70-7cb7-4cff-b6f2-fff4a05a87db",
   "metadata": {},
   "outputs": [
    {
     "name": "stdout",
     "output_type": "stream",
     "text": [
      "[2, 3]\n"
     ]
    }
   ],
   "source": [
    "def findErrorNums(nums):\n",
    "    n = len(nums)\n",
    "    count = [0] * (n + 1)  # Create a count array to track the occurrences of each number\n",
    "\n",
    "    for num in nums:\n",
    "        count[num] += 1  # Increment the count of the corresponding number\n",
    "\n",
    "    duplicate_num = missing_num = 0\n",
    "\n",
    "    for i in range(1, n + 1):\n",
    "        if count[i] == 0:\n",
    "            missing_num = i  # Find the missing number\n",
    "        elif count[i] == 2:\n",
    "            duplicate_num = i  # Find the duplicate number\n",
    "\n",
    "    return [duplicate_num, missing_num]\n",
    "\n",
    "# Example usage\n",
    "nums = [1, 2, 2, 4]\n",
    "result = findErrorNums(nums)\n",
    "print(result)  # Output: [2, 3]\n"
   ]
  }
 ],
 "metadata": {
  "kernelspec": {
   "display_name": "Python 3 (ipykernel)",
   "language": "python",
   "name": "python3"
  },
  "language_info": {
   "codemirror_mode": {
    "name": "ipython",
    "version": 3
   },
   "file_extension": ".py",
   "mimetype": "text/x-python",
   "name": "python",
   "nbconvert_exporter": "python",
   "pygments_lexer": "ipython3",
   "version": "3.10.8"
  }
 },
 "nbformat": 4,
 "nbformat_minor": 5
}
