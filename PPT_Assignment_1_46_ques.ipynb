{
  "nbformat": 4,
  "nbformat_minor": 0,
  "metadata": {
    "colab": {
      "provenance": []
    },
    "kernelspec": {
      "name": "python3",
      "display_name": "Python 3"
    },
    "language_info": {
      "name": "python"
    }
  },
  "cells": [
    {
      "cell_type": "markdown",
      "source": [
        "1. Write a Python program to reverse a string without using any built-in string reversal functions."
      ],
      "metadata": {
        "id": "42aX8Iuo58yK"
      }
    },
    {
      "cell_type": "code",
      "execution_count": 1,
      "metadata": {
        "colab": {
          "base_uri": "https://localhost:8080/"
        },
        "id": "t6WfYo7X58Ul",
        "outputId": "1238d9f4-c94a-4ebe-a280-529157247d7d"
      },
      "outputs": [
        {
          "output_type": "stream",
          "name": "stdout",
          "text": [
            "Enter a string: Data Science\n",
            "Reversed string: ecneicS ataD\n"
          ]
        }
      ],
      "source": [
        "def reverse_string(input_string):\n",
        "    reversed_string = \"\"\n",
        "    for i in range(len(input_string)-1, -1, -1):\n",
        "        reversed_string += input_string[i]\n",
        "    return reversed_string\n",
        "\n",
        "# Example usage\n",
        "string_to_reverse = input(\"Enter a string: \")\n",
        "reversed_string = reverse_string(string_to_reverse)\n",
        "print(\"Reversed string:\", reversed_string)\n"
      ]
    },
    {
      "cell_type": "markdown",
      "source": [
        "2.  Implement a function to check if a given string is a palindrome"
      ],
      "metadata": {
        "id": "j-yqSFaa6NWK"
      }
    },
    {
      "cell_type": "code",
      "source": [
        "def is_palindrome(input_string):\n",
        "    # Remove whitespace and convert to lowercase\n",
        "    input_string = input_string.replace(\" \", \"\").lower()\n",
        "\n",
        "    # Check if the string is equal to its reverse\n",
        "    reversed_string = reverse_string(input_string)\n",
        "    return input_string == reversed_string\n",
        "\n",
        "def reverse_string(input_string):\n",
        "    reversed_string = \"\"\n",
        "    for i in range(len(input_string)-1, -1, -1):\n",
        "        reversed_string += input_string[i]\n",
        "    return reversed_string\n",
        "\n",
        "# Example usage\n",
        "string_to_check = input(\"Enter a string: \")\n",
        "if is_palindrome(string_to_check):\n",
        "    print(\"The string is a palindrome.\")\n",
        "else:\n",
        "    print(\"The string is not a palindrome.\")\n"
      ],
      "metadata": {
        "colab": {
          "base_uri": "https://localhost:8080/"
        },
        "id": "zPAgMHL46OvJ",
        "outputId": "f84db27b-e0ad-438c-d54c-9ee1dde215b2"
      },
      "execution_count": 2,
      "outputs": [
        {
          "output_type": "stream",
          "name": "stdout",
          "text": [
            "Enter a string: Nayan\n",
            "The string is a palindrome.\n"
          ]
        }
      ]
    },
    {
      "cell_type": "markdown",
      "source": [
        "3. Write a program to find the largest element in a given list.\n"
      ],
      "metadata": {
        "id": "oI7G67J66XKR"
      }
    },
    {
      "cell_type": "code",
      "source": [
        "def find_largest_element(input_list):\n",
        "    largest = input_list[0]\n",
        "    for num in input_list:\n",
        "        if num > largest:\n",
        "            largest = num\n",
        "    return largest\n",
        "\n",
        "# Example usage\n",
        "given_list = [10, 5, 25, 8, 16]\n",
        "largest_element = find_largest_element(given_list)\n",
        "print(\"The largest element is:\", largest_element)\n"
      ],
      "metadata": {
        "colab": {
          "base_uri": "https://localhost:8080/"
        },
        "id": "TNDjrShC6YuS",
        "outputId": "91e1295a-e9d9-4876-bf78-d157d4446b32"
      },
      "execution_count": 3,
      "outputs": [
        {
          "output_type": "stream",
          "name": "stdout",
          "text": [
            "The largest element is: 25\n"
          ]
        }
      ]
    },
    {
      "cell_type": "markdown",
      "source": [
        "4. Implement a function to count the occurrence of each element in a list."
      ],
      "metadata": {
        "id": "DHF4Fhin6hMA"
      }
    },
    {
      "cell_type": "code",
      "source": [
        "def count_occurrences(input_list):\n",
        "    occurrences = {}\n",
        "    for item in input_list:\n",
        "        if item in occurrences:\n",
        "            occurrences[item] += 1\n",
        "        else:\n",
        "            occurrences[item] = 1\n",
        "    return occurrences\n",
        "\n",
        "# Example usage\n",
        "given_list = [1, 2, 3, 2, 1, 3, 1, 2, 4, 5, 4]\n",
        "occurrences = count_occurrences(given_list)\n",
        "print(\"Element occurrences:\", occurrences)\n"
      ],
      "metadata": {
        "colab": {
          "base_uri": "https://localhost:8080/"
        },
        "id": "3e6RILZx6mgx",
        "outputId": "210c81ca-31dc-4d97-cc87-e006e82c62d1"
      },
      "execution_count": 4,
      "outputs": [
        {
          "output_type": "stream",
          "name": "stdout",
          "text": [
            "Element occurrences: {1: 3, 2: 3, 3: 2, 4: 2, 5: 1}\n"
          ]
        }
      ]
    },
    {
      "cell_type": "markdown",
      "source": [
        "5. Write a Python program to find the second largest number in a list.\n"
      ],
      "metadata": {
        "id": "lt_Uqrf06cjg"
      }
    },
    {
      "cell_type": "code",
      "source": [
        "def count_occurrences(input_list):\n",
        "    occurrences = {}\n",
        "    for item in input_list:\n",
        "        if item in occurrences:\n",
        "            occurrences[item] += 1\n",
        "        else:\n",
        "            occurrences[item] = 1\n",
        "    return occurrences\n",
        "\n",
        "# Example usage\n",
        "given_list = [1, 2, 3, 2, 1, 3, 1, 2, 4, 5, 4]\n",
        "occurrences = count_occurrences(given_list)\n",
        "print(\"Element occurrences:\", occurrences)\n"
      ],
      "metadata": {
        "colab": {
          "base_uri": "https://localhost:8080/"
        },
        "id": "cSyoeaUy6shw",
        "outputId": "c96482ee-0bbb-4aac-ae33-9a239609191d"
      },
      "execution_count": 5,
      "outputs": [
        {
          "output_type": "stream",
          "name": "stdout",
          "text": [
            "Element occurrences: {1: 3, 2: 3, 3: 2, 4: 2, 5: 1}\n"
          ]
        }
      ]
    },
    {
      "cell_type": "markdown",
      "source": [
        "6. Implement a function to remove duplicate elements from a list.\n"
      ],
      "metadata": {
        "id": "MlAsrXPS6wdf"
      }
    },
    {
      "cell_type": "code",
      "source": [
        "def remove_duplicates(input_list):\n",
        "    unique_list = []\n",
        "    for item in input_list:\n",
        "        if item not in unique_list:\n",
        "            unique_list.append(item)\n",
        "    return unique_list\n",
        "\n",
        "# Example usage\n",
        "given_list = [1, 2, 3, 2, 1, 3, 1, 2, 4, 5, 4]\n",
        "new_list = remove_duplicates(given_list)\n",
        "print(\"List with duplicates removed:\", new_list)\n"
      ],
      "metadata": {
        "colab": {
          "base_uri": "https://localhost:8080/"
        },
        "id": "ULkxEXzh6zn4",
        "outputId": "759fdfe3-4879-4dbc-ed00-3a8949574c4c"
      },
      "execution_count": 6,
      "outputs": [
        {
          "output_type": "stream",
          "name": "stdout",
          "text": [
            "List with duplicates removed: [1, 2, 3, 4, 5]\n"
          ]
        }
      ]
    },
    {
      "cell_type": "markdown",
      "source": [
        "7. Write a program to calculate the factorial of a given number."
      ],
      "metadata": {
        "id": "XnC7u9bG64b3"
      }
    },
    {
      "cell_type": "code",
      "source": [
        "def calculate_factorial(number):\n",
        "    factorial = 1\n",
        "    for i in range(1, number + 1):\n",
        "        factorial *= i\n",
        "    return factorial\n",
        "\n",
        "# Example usage\n",
        "input_number = int(input(\"Enter a number: \"))\n",
        "factorial_result = calculate_factorial(input_number)\n",
        "print(\"Factorial of\", input_number, \"is:\", factorial_result)\n"
      ],
      "metadata": {
        "colab": {
          "base_uri": "https://localhost:8080/"
        },
        "id": "K7_WSo8x65iv",
        "outputId": "79e84a51-ee5d-4d8d-8761-9cbe4239124b"
      },
      "execution_count": 8,
      "outputs": [
        {
          "output_type": "stream",
          "name": "stdout",
          "text": [
            "Enter a number: 5\n",
            "Factorial of 5 is: 120\n"
          ]
        }
      ]
    },
    {
      "cell_type": "markdown",
      "source": [
        "\n",
        "8. Implement a function to check if a given number is prime."
      ],
      "metadata": {
        "id": "56pxeiiu7IvQ"
      }
    },
    {
      "cell_type": "code",
      "source": [
        "def is_prime(number):\n",
        "    if number < 2:\n",
        "        return False\n",
        "    for i in range(2, int(number ** 0.5) + 1):\n",
        "        if number % i == 0:\n",
        "            return False\n",
        "    return True\n",
        "\n",
        "# Example usage\n",
        "input_number = int(input(\"Enter a number: \"))\n",
        "if is_prime(input_number):\n",
        "    print(input_number, \"is a prime number.\")\n",
        "else:\n",
        "    print(input_number, \"is not a prime number.\")\n"
      ],
      "metadata": {
        "colab": {
          "base_uri": "https://localhost:8080/"
        },
        "id": "9OURQZDL6-yi",
        "outputId": "e334fdf3-bc22-4465-9608-f264a1846eb3"
      },
      "execution_count": 9,
      "outputs": [
        {
          "output_type": "stream",
          "name": "stdout",
          "text": [
            "Enter a number: 12\n",
            "12 is not a prime number.\n"
          ]
        }
      ]
    },
    {
      "cell_type": "markdown",
      "source": [
        "9. Write a Python program to sort a list of integers in ascending order."
      ],
      "metadata": {
        "id": "u9TAPPX77Tp-"
      }
    },
    {
      "cell_type": "code",
      "source": [
        "def sort_list_ascending(input_list):\n",
        "    sorted_list = input_list.copy()\n",
        "    sorted_list.sort()\n",
        "    return sorted_list\n",
        "\n",
        "# Example usage\n",
        "given_list = [9, 3, 6, 1, 8, 2, 4, 7, 5]\n",
        "sorted_list = sort_list_ascending(given_list)\n",
        "print(\"Sorted list in ascending order:\", sorted_list)\n"
      ],
      "metadata": {
        "colab": {
          "base_uri": "https://localhost:8080/"
        },
        "id": "auwsSLb77X9W",
        "outputId": "c7d61083-eae6-47cd-83ac-c2f33e5bbb40"
      },
      "execution_count": 10,
      "outputs": [
        {
          "output_type": "stream",
          "name": "stdout",
          "text": [
            "Sorted list in ascending order: [1, 2, 3, 4, 5, 6, 7, 8, 9]\n"
          ]
        }
      ]
    },
    {
      "cell_type": "markdown",
      "source": [
        "10. Implement a function to find the sum of all numbers in a list."
      ],
      "metadata": {
        "id": "RRWM5GPX7ZxW"
      }
    },
    {
      "cell_type": "code",
      "source": [
        "def calculate_sum(input_list):\n",
        "    total = 0\n",
        "    for num in input_list:\n",
        "        total += num\n",
        "    return total\n",
        "\n",
        "# Example usage\n",
        "given_list = [1, 2, 3, 4, 5]\n",
        "sum_of_numbers = calculate_sum(given_list)\n",
        "print(\"Sum of numbers:\", sum_of_numbers)\n"
      ],
      "metadata": {
        "colab": {
          "base_uri": "https://localhost:8080/"
        },
        "id": "gnMG1K6u7dre",
        "outputId": "d2257698-52e7-4528-9b32-bfde6b7f7825"
      },
      "execution_count": 11,
      "outputs": [
        {
          "output_type": "stream",
          "name": "stdout",
          "text": [
            "Sum of numbers: 15\n"
          ]
        }
      ]
    },
    {
      "cell_type": "markdown",
      "source": [
        "11. Write a program to find the common elements between two lists."
      ],
      "metadata": {
        "id": "bN8scePB7j4F"
      }
    },
    {
      "cell_type": "code",
      "source": [
        "def find_common_elements(list1, list2):\n",
        "    common_elements = []\n",
        "    for item in list1:\n",
        "        if item in list2 and item not in common_elements:\n",
        "            common_elements.append(item)\n",
        "    return common_elements\n",
        "\n",
        "# Example usage\n",
        "list1 = [1, 2, 3, 4, 5]\n",
        "list2 = [4, 5, 6, 7, 8]\n",
        "common_elements = find_common_elements(list1, list2)\n",
        "print(\"Common elements:\", common_elements)\n",
        "\n"
      ],
      "metadata": {
        "colab": {
          "base_uri": "https://localhost:8080/"
        },
        "id": "JNSDObJv7nFV",
        "outputId": "110794f9-965c-42cd-b9b9-ee726f0964f2"
      },
      "execution_count": 12,
      "outputs": [
        {
          "output_type": "stream",
          "name": "stdout",
          "text": [
            "Common elements: [4, 5]\n"
          ]
        }
      ]
    },
    {
      "cell_type": "markdown",
      "source": [
        "12. Implement a function to check if a given string is an anagram of another string.\n"
      ],
      "metadata": {
        "id": "nkPW3h9q7piF"
      }
    },
    {
      "cell_type": "code",
      "source": [
        "def is_anagram(string1, string2):\n",
        "    # Remove whitespace and convert to lowercase\n",
        "    string1 = string1.replace(\" \", \"\").lower()\n",
        "    string2 = string2.replace(\" \", \"\").lower()\n",
        "\n",
        "    # Check if the sorted strings are equal\n",
        "    return sorted(string1) == sorted(string2)\n",
        "\n",
        "# Example usage\n",
        "string1 = input(\"Enter the first string: \")\n",
        "string2 = input(\"Enter the second string: \")\n",
        "if is_anagram(string1, string2):\n",
        "    print(\"The strings are anagrams.\")\n",
        "else:\n",
        "    print(\"The strings are not anagrams.\")\n"
      ],
      "metadata": {
        "colab": {
          "base_uri": "https://localhost:8080/"
        },
        "id": "p8oOBKkg7tu9",
        "outputId": "6038a2c0-8bb3-45f1-ed44-3ca01036a326"
      },
      "execution_count": 16,
      "outputs": [
        {
          "output_type": "stream",
          "name": "stdout",
          "text": [
            "Enter the first string: A gentleman\n",
            "Enter the second string: elegant man\n",
            "The strings are anagrams.\n"
          ]
        }
      ]
    },
    {
      "cell_type": "markdown",
      "source": [
        "13. Write a Python program to generate all permutations of a given string.\n"
      ],
      "metadata": {
        "id": "NCngG7dz8Zl7"
      }
    },
    {
      "cell_type": "code",
      "source": [
        "def generate_permutations(input_string):\n",
        "    # Base case: If the string is empty, return an empty permutation\n",
        "    if len(input_string) == 0:\n",
        "        return ['']\n",
        "\n",
        "    # Recursive step: Generate permutations by inserting the first character\n",
        "    first_char = input_string[0]\n",
        "    remaining_chars = input_string[1:]\n",
        "    permutations = []\n",
        "    for perm in generate_permutations(remaining_chars):\n",
        "        for i in range(len(perm) + 1):\n",
        "            new_perm = perm[:i] + first_char + perm[i:]\n",
        "            permutations.append(new_perm)\n",
        "    return permutations\n",
        "\n",
        "# Example usage\n",
        "string_to_permute = input(\"Enter a string: \")\n",
        "permutations = generate_permutations(string_to_permute)\n",
        "print(\"Permutations:\")\n",
        "for perm in permutations:\n",
        "    print(perm)\n"
      ],
      "metadata": {
        "colab": {
          "base_uri": "https://localhost:8080/"
        },
        "id": "ZuU9snlQ8Dd6",
        "outputId": "8017c6ab-8833-4dea-f839-0d6467c287bf"
      },
      "execution_count": 18,
      "outputs": [
        {
          "output_type": "stream",
          "name": "stdout",
          "text": [
            "Enter a string: Ram\n",
            "Permutations:\n",
            "Ram\n",
            "aRm\n",
            "amR\n",
            "Rma\n",
            "mRa\n",
            "maR\n"
          ]
        }
      ]
    },
    {
      "cell_type": "markdown",
      "source": [
        "14. Implement a function to calculate the Fibonacci sequence up to a given number of terms."
      ],
      "metadata": {
        "id": "fxQpeaBZ8lJS"
      }
    },
    {
      "cell_type": "code",
      "source": [
        "def fibonacci_sequence(num_terms):\n",
        "    sequence = []\n",
        "    if num_terms <= 0:\n",
        "        return sequence\n",
        "    elif num_terms == 1:\n",
        "        sequence.append(0)\n",
        "    elif num_terms == 2:\n",
        "        sequence.extend([0, 1])\n",
        "    else:\n",
        "        sequence.extend([0, 1])\n",
        "        while len(sequence) < num_terms:\n",
        "            next_term = sequence[-1] + sequence[-2]\n",
        "            sequence.append(next_term)\n",
        "    return sequence\n",
        "\n",
        "# Example usage\n",
        "num_terms = int(input(\"Enter the number of terms: \"))\n",
        "fib_sequence = fibonacci_sequence(num_terms)\n",
        "print(\"Fibonacci sequence:\")\n",
        "for term in fib_sequence:\n",
        "    print(term)\n"
      ],
      "metadata": {
        "colab": {
          "base_uri": "https://localhost:8080/"
        },
        "id": "K0BBF2XB8pNa",
        "outputId": "900054f7-eaba-4390-8a68-3e3dc5620477"
      },
      "execution_count": 19,
      "outputs": [
        {
          "output_type": "stream",
          "name": "stdout",
          "text": [
            "Enter the number of terms: 15\n",
            "Fibonacci sequence:\n",
            "0\n",
            "1\n",
            "1\n",
            "2\n",
            "3\n",
            "5\n",
            "8\n",
            "13\n",
            "21\n",
            "34\n",
            "55\n",
            "89\n",
            "144\n",
            "233\n",
            "377\n"
          ]
        }
      ]
    },
    {
      "cell_type": "markdown",
      "source": [
        "15. Write a program to find the median of a list of numbers.\n"
      ],
      "metadata": {
        "id": "BKPczEH38u2h"
      }
    },
    {
      "cell_type": "code",
      "source": [
        "def find_median(numbers):\n",
        "    sorted_numbers = sorted(numbers)\n",
        "    length = len(sorted_numbers)\n",
        "    if length % 2 == 0:\n",
        "        mid_index = length // 2\n",
        "        median = (sorted_numbers[mid_index - 1] + sorted_numbers[mid_index]) / 2\n",
        "    else:\n",
        "        mid_index = length // 2\n",
        "        median = sorted_numbers[mid_index]\n",
        "    return median\n",
        "\n",
        "# Example usage\n",
        "number_list = [3, 1, 5, 2, 4]\n",
        "median = find_median(number_list)\n",
        "print(\"Median:\", median)\n"
      ],
      "metadata": {
        "colab": {
          "base_uri": "https://localhost:8080/"
        },
        "id": "ygCYkNpA8y3R",
        "outputId": "cd605dee-4034-411e-86c0-f6a4b30c8e05"
      },
      "execution_count": 20,
      "outputs": [
        {
          "output_type": "stream",
          "name": "stdout",
          "text": [
            "Median: 3\n"
          ]
        }
      ]
    },
    {
      "cell_type": "markdown",
      "source": [
        "16. Implement a function to check if a given list is sorted in non-decreasing order.\n"
      ],
      "metadata": {
        "id": "HEeM3hZh81Za"
      }
    },
    {
      "cell_type": "code",
      "source": [
        "def is_sorted_non_decreasing(input_list):\n",
        "    for i in range(1, len(input_list)):\n",
        "        if input_list[i] < input_list[i - 1]:\n",
        "            return False\n",
        "    return True\n",
        "\n",
        "# Example usage\n",
        "given_list = [1, 2, 3, 4, 5]\n",
        "if is_sorted_non_decreasing(given_list):\n",
        "    print(\"The list is sorted in non-decreasing order.\")\n",
        "else:\n",
        "    print(\"The list is not sorted in non-decreasing order.\")\n"
      ],
      "metadata": {
        "colab": {
          "base_uri": "https://localhost:8080/"
        },
        "id": "iueyHKoS87ya",
        "outputId": "c82d574e-a179-4c8f-a278-eb711d981521"
      },
      "execution_count": 21,
      "outputs": [
        {
          "output_type": "stream",
          "name": "stdout",
          "text": [
            "The list is sorted in non-decreasing order.\n"
          ]
        }
      ]
    },
    {
      "cell_type": "markdown",
      "source": [
        "17. Write a Python program to find the intersection of two lists"
      ],
      "metadata": {
        "id": "O1fnpjPy8_Np"
      }
    },
    {
      "cell_type": "code",
      "source": [
        "def find_intersection(list1, list2):\n",
        "    intersection = []\n",
        "    for item in list1:\n",
        "        if item in list2 and item not in intersection:\n",
        "            intersection.append(item)\n",
        "    return intersection\n",
        "\n",
        "# Example usage\n",
        "list1 = [1, 2, 3, 4, 5]\n",
        "list2 = [4, 5, 6, 7, 8]\n",
        "intersection = find_intersection(list1, list2)\n",
        "print(\"Intersection:\", intersection)\n"
      ],
      "metadata": {
        "colab": {
          "base_uri": "https://localhost:8080/"
        },
        "id": "j2vJdyz-9Cwq",
        "outputId": "fdc475a0-ecbe-4f52-9031-2e8b4bed1cb1"
      },
      "execution_count": 22,
      "outputs": [
        {
          "output_type": "stream",
          "name": "stdout",
          "text": [
            "Intersection: [4, 5]\n"
          ]
        }
      ]
    },
    {
      "cell_type": "markdown",
      "source": [
        "18.  Implement a function to find the maximum subarray sum in a given list.\n",
        "\n"
      ],
      "metadata": {
        "id": "JPHXfbfG9Ev6"
      }
    },
    {
      "cell_type": "code",
      "source": [
        "def find_maximum_subarray_sum(input_list):\n",
        "    max_sum = float('-inf')  # Initialize with negative infinity\n",
        "    current_sum = 0\n",
        "\n",
        "    for num in input_list:\n",
        "        current_sum += num\n",
        "\n",
        "        if current_sum > max_sum:\n",
        "            max_sum = current_sum\n",
        "\n",
        "        if current_sum < 0:\n",
        "            current_sum = 0\n",
        "\n",
        "    return max_sum\n",
        "\n",
        "# Example usage\n",
        "given_list = [-2, 1, -3, 4, -1, 2, 1, -5, 4]\n",
        "maximum_sum = find_maximum_subarray_sum(given_list)\n",
        "print(\"Maximum subarray sum:\", maximum_sum)"
      ],
      "metadata": {
        "colab": {
          "base_uri": "https://localhost:8080/"
        },
        "id": "UV75-n4-9NQx",
        "outputId": "3416e916-98f4-4ad5-c0a6-cd6110a28cf3"
      },
      "execution_count": 23,
      "outputs": [
        {
          "output_type": "stream",
          "name": "stdout",
          "text": [
            "Maximum subarray sum: 6\n"
          ]
        }
      ]
    },
    {
      "cell_type": "markdown",
      "source": [
        "19. Write a program to remove all vowels from a given string.\n"
      ],
      "metadata": {
        "id": "dqBFC4SX9P5Z"
      }
    },
    {
      "cell_type": "code",
      "source": [
        "def remove_vowels(input_string):\n",
        "    vowels = \"aeiouAEIOU\"\n",
        "    consonants = \"\"\n",
        "    for char in input_string:\n",
        "        if char not in vowels:\n",
        "            consonants += char\n",
        "    return consonants\n",
        "\n",
        "# Example usage\n",
        "string_to_process = input(\"Enter a string: \")\n",
        "result = remove_vowels(string_to_process)\n",
        "print(\"String without vowels:\", result)\n"
      ],
      "metadata": {
        "colab": {
          "base_uri": "https://localhost:8080/"
        },
        "id": "LhEo4orv9UOh",
        "outputId": "b98d4ed8-b112-4792-9f7a-50b07e460939"
      },
      "execution_count": 24,
      "outputs": [
        {
          "output_type": "stream",
          "name": "stdout",
          "text": [
            "Enter a string: Rohit\n",
            "String without vowels: Rht\n"
          ]
        }
      ]
    },
    {
      "cell_type": "markdown",
      "source": [
        "20. Implement a function to reverse the order of words in a given sentence.\n"
      ],
      "metadata": {
        "id": "GMkd_w9r9ZkZ"
      }
    },
    {
      "cell_type": "code",
      "source": [
        "def reverse_sentence(sentence):\n",
        "    words = sentence.split()\n",
        "    reversed_words = words[::-1]\n",
        "    reversed_sentence = \" \".join(reversed_words)\n",
        "    return reversed_sentence\n",
        "\n",
        "# Example usage\n",
        "given_sentence = input(\"Enter a sentence: \")\n",
        "reversed_sentence = reverse_sentence(given_sentence)\n",
        "print(\"Reversed sentence:\", reversed_sentence)\n"
      ],
      "metadata": {
        "colab": {
          "base_uri": "https://localhost:8080/"
        },
        "id": "7c9lwDrx9hVY",
        "outputId": "a36ee7d5-4d69-47f8-d374-69d6afc87145"
      },
      "execution_count": 25,
      "outputs": [
        {
          "output_type": "stream",
          "name": "stdout",
          "text": [
            "Enter a sentence: Today is Monday\n",
            "Reversed sentence: Monday is Today\n"
          ]
        }
      ]
    },
    {
      "cell_type": "markdown",
      "source": [
        "21. Write a Python program to check if two strings are anagrams of each other"
      ],
      "metadata": {
        "id": "O-W8rL2R9jlg"
      }
    },
    {
      "cell_type": "code",
      "source": [
        "def are_anagrams(string1, string2):\n",
        "    # Remove whitespace and convert to lowercase\n",
        "    string1 = string1.replace(\" \", \"\").lower()\n",
        "    string2 = string2.replace(\" \", \"\").lower()\n",
        "\n",
        "    # Check if the sorted strings are equal\n",
        "    return sorted(string1) == sorted(string2)\n",
        "\n",
        "# Example usage\n",
        "string1 = input(\"Enter the first string: \")\n",
        "string2 = input(\"Enter the second string: \")\n",
        "if are_anagrams(string1, string2):\n",
        "    print(\"The strings are anagrams.\")\n",
        "else:\n",
        "    print(\"The strings are not anagrams.\")\n"
      ],
      "metadata": {
        "colab": {
          "base_uri": "https://localhost:8080/"
        },
        "id": "ysEksYnh9svP",
        "outputId": "b2af91f3-99c5-4368-eba8-42f894f7dd82"
      },
      "execution_count": 27,
      "outputs": [
        {
          "output_type": "stream",
          "name": "stdout",
          "text": [
            "Enter the first string: Railway\n",
            "Enter the second string: wayrail\n",
            "The strings are anagrams.\n"
          ]
        }
      ]
    },
    {
      "cell_type": "markdown",
      "source": [
        "22. Implement a function to find the first non-repeating character in a string."
      ],
      "metadata": {
        "id": "hSCI0jCV98im"
      }
    },
    {
      "cell_type": "code",
      "source": [
        "def find_first_non_repeating_char(input_string):\n",
        "    char_count = {}\n",
        "    for char in input_string:\n",
        "        if char in char_count:\n",
        "            char_count[char] += 1\n",
        "        else:\n",
        "            char_count[char] = 1\n",
        "\n",
        "    for char in input_string:\n",
        "        if char_count[char] == 1:\n",
        "            return char\n",
        "\n",
        "    return None\n",
        "\n",
        "# Example usage\n",
        "given_string = input(\"Enter a string: \")\n",
        "first_non_repeating_char = find_first_non_repeating_char(given_string)\n",
        "\n",
        "if first_non_repeating_char:\n",
        "    print(\"First non-repeating character:\", first_non_repeating_char)\n",
        "else:\n",
        "    print(\"No non-repeating character found.\")\n"
      ],
      "metadata": {
        "colab": {
          "base_uri": "https://localhost:8080/"
        },
        "id": "Fr0eOxRG-Asn",
        "outputId": "21e60aa7-c573-4c98-b3d3-606512ad51c1"
      },
      "execution_count": 28,
      "outputs": [
        {
          "output_type": "stream",
          "name": "stdout",
          "text": [
            "Enter a string: Hello\n",
            "First non-repeating character: H\n"
          ]
        }
      ]
    },
    {
      "cell_type": "markdown",
      "source": [],
      "metadata": {
        "id": "4vkwZ9AT-HeO"
      }
    },
    {
      "cell_type": "markdown",
      "source": [
        "23. Write a program to find the prime factors of a given number.\n"
      ],
      "metadata": {
        "id": "8dNekjNJ-HlB"
      }
    },
    {
      "cell_type": "code",
      "source": [
        "def find_prime_factors(number):\n",
        "    prime_factors = []\n",
        "    divisor = 2\n",
        "\n",
        "    while divisor <= number:\n",
        "        if number % divisor == 0:\n",
        "            prime_factors.append(divisor)\n",
        "            number = number // divisor\n",
        "        else:\n",
        "            divisor += 1\n",
        "\n",
        "    return prime_factors\n",
        "\n",
        "# Example usage\n",
        "input_number = int(input(\"Enter a number: \"))\n",
        "prime_factors = find_prime_factors(input_number)\n",
        "print(\"Prime factors:\", prime_factors)\n"
      ],
      "metadata": {
        "colab": {
          "base_uri": "https://localhost:8080/"
        },
        "id": "WC3m4Qfs-LmB",
        "outputId": "e9b73436-c308-41d8-cd8f-a63b9271fce4"
      },
      "execution_count": 29,
      "outputs": [
        {
          "output_type": "stream",
          "name": "stdout",
          "text": [
            "Enter a number: 12\n",
            "Prime factors: [2, 2, 3]\n"
          ]
        }
      ]
    },
    {
      "cell_type": "markdown",
      "source": [
        "24. Implement a function to check if a given number is a power of two.\n"
      ],
      "metadata": {
        "id": "AoGhYw6h-NhG"
      }
    },
    {
      "cell_type": "code",
      "source": [
        "def is_power_of_two(number):\n",
        "    if number <= 0:\n",
        "        return False\n",
        "    return (number & (number - 1)) == 0\n",
        "\n",
        "# Example usage\n",
        "input_number = int(input(\"Enter a number: \"))\n",
        "if is_power_of_two(input_number):\n",
        "    print(\"The number is a power of two.\")\n",
        "else:\n",
        "    print(\"The number is not a power of two.\")\n"
      ],
      "metadata": {
        "colab": {
          "base_uri": "https://localhost:8080/"
        },
        "id": "PwwIyCPu-VR-",
        "outputId": "e02bc5f8-cbda-4c30-b147-52dbaab00798"
      },
      "execution_count": 30,
      "outputs": [
        {
          "output_type": "stream",
          "name": "stdout",
          "text": [
            "Enter a number: 32\n",
            "The number is a power of two.\n"
          ]
        }
      ]
    },
    {
      "cell_type": "markdown",
      "source": [
        "25. Write a Python program to merge two sorted lists into a single sorted list"
      ],
      "metadata": {
        "id": "BptWuSUq-XIy"
      }
    },
    {
      "cell_type": "code",
      "source": [
        "def merge_sorted_lists(list1, list2):\n",
        "    merged_list = []\n",
        "    i = 0\n",
        "    j = 0\n",
        "\n",
        "    while i < len(list1) and j < len(list2):\n",
        "        if list1[i] <= list2[j]:\n",
        "            merged_list.append(list1[i])\n",
        "            i += 1\n",
        "        else:\n",
        "            merged_list.append(list2[j])\n",
        "            j += 1\n",
        "\n",
        "    while i < len(list1):\n",
        "        merged_list.append(list1[i])\n",
        "        i += 1\n",
        "\n",
        "    while j < len(list2):\n",
        "        merged_list.append(list2[j])\n",
        "        j += 1\n",
        "\n",
        "    return merged_list\n",
        "\n",
        "# Example usage\n",
        "list1 = [1, 3, 5, 7]\n",
        "list2 = [2, 4, 6, 8]\n",
        "merged_list = merge_sorted_lists(list1, list2)\n",
        "print(\"Merged list:\", merged_list)\n"
      ],
      "metadata": {
        "colab": {
          "base_uri": "https://localhost:8080/"
        },
        "id": "sr3qyBen-gn9",
        "outputId": "7a15a67d-9c06-44a8-c68d-dea2e100ec2a"
      },
      "execution_count": 31,
      "outputs": [
        {
          "output_type": "stream",
          "name": "stdout",
          "text": [
            "Merged list: [1, 2, 3, 4, 5, 6, 7, 8]\n"
          ]
        }
      ]
    },
    {
      "cell_type": "markdown",
      "source": [
        "26. Implement a function to find the mode of a list of numbers."
      ],
      "metadata": {
        "id": "CFE_2Vs_-jdF"
      }
    },
    {
      "cell_type": "code",
      "source": [
        "def find_mode(numbers):\n",
        "    frequency = {}\n",
        "    for num in numbers:\n",
        "        if num in frequency:\n",
        "            frequency[num] += 1\n",
        "        else:\n",
        "            frequency[num] = 1\n",
        "\n",
        "    max_frequency = max(frequency.values())\n",
        "    mode = [num for num, freq in frequency.items() if freq == max_frequency]\n",
        "    return mode\n",
        "\n",
        "# Example usage\n",
        "number_list = [1, 2, 3, 2, 1, 3, 1, 2, 4, 5, 4]\n",
        "mode = find_mode(number_list)\n",
        "print(\"Mode:\", mode)\n",
        "\n"
      ],
      "metadata": {
        "colab": {
          "base_uri": "https://localhost:8080/"
        },
        "id": "ELGMBX0--pB1",
        "outputId": "558dfc5a-5e67-4137-d4ad-4131fdcc416e"
      },
      "execution_count": 32,
      "outputs": [
        {
          "output_type": "stream",
          "name": "stdout",
          "text": [
            "Mode: [1, 2]\n"
          ]
        }
      ]
    },
    {
      "cell_type": "markdown",
      "source": [
        "27. Write a program to find the greatest common divisor (GCD) of two numbers.\n"
      ],
      "metadata": {
        "id": "x_zLfV3u-tVt"
      }
    },
    {
      "cell_type": "code",
      "source": [
        "def gcd(a, b):\n",
        "    while b != 0:\n",
        "        a, b = b, a % b\n",
        "    return a\n",
        "\n",
        "# Example usage\n",
        "num1 = int(input(\"Enter the first number: \"))\n",
        "num2 = int(input(\"Enter the second number: \"))\n",
        "\n",
        "result = gcd(num1, num2)\n",
        "print(\"The GCD of\", num1, \"and\", num2, \"is:\", result)\n"
      ],
      "metadata": {
        "colab": {
          "base_uri": "https://localhost:8080/"
        },
        "id": "psnE-oKc-pwg",
        "outputId": "87057d93-7089-4292-beda-da46471ff1cb"
      },
      "execution_count": 33,
      "outputs": [
        {
          "output_type": "stream",
          "name": "stdout",
          "text": [
            "Enter the first number: 25\n",
            "Enter the second number: 20\n",
            "The GCD of 25 and 20 is: 5\n"
          ]
        }
      ]
    },
    {
      "cell_type": "markdown",
      "source": [
        "28. Implement a function to calculate the square root of a given number.\n"
      ],
      "metadata": {
        "id": "aA-BM0c--2WM"
      }
    },
    {
      "cell_type": "code",
      "source": [
        "def square_root(n):\n",
        "    if n < 0:\n",
        "        raise ValueError(\"Square root is not defined for negative numbers\")\n",
        "\n",
        "    # Initial guess for the square root\n",
        "    x = n\n",
        "\n",
        "    # Iterate until convergence\n",
        "    while True:\n",
        "        # Update the guess using the Babylonian method\n",
        "        new_x = 0.5 * (x + n / x)\n",
        "\n",
        "        # Check for convergence\n",
        "        if abs(x - new_x) < 1e-9:\n",
        "            break\n",
        "\n",
        "        x = new_x\n",
        "\n",
        "    return x\n",
        "\n",
        "# Example usage\n",
        "num = float(input(\"Enter a number: \"))\n",
        "\n",
        "result\n"
      ],
      "metadata": {
        "colab": {
          "base_uri": "https://localhost:8080/"
        },
        "id": "Xm0UM2h3-6xc",
        "outputId": "9ad33d24-3aba-4093-a1cb-7b8bbc9839cb"
      },
      "execution_count": 34,
      "outputs": [
        {
          "name": "stdout",
          "output_type": "stream",
          "text": [
            "Enter a number: 25\n"
          ]
        },
        {
          "output_type": "execute_result",
          "data": {
            "text/plain": [
              "5"
            ]
          },
          "metadata": {},
          "execution_count": 34
        }
      ]
    },
    {
      "cell_type": "markdown",
      "source": [
        "29.  Write a Python program to check if a given string is a valid palindrome ignoring non-alphanumeric characters"
      ],
      "metadata": {
        "id": "XmRWM7Y9-85D"
      }
    },
    {
      "cell_type": "code",
      "source": [
        "def is_palindrome(string):\n",
        "    # Remove non-alphanumeric characters from the string\n",
        "    cleaned_string = ''.join(char.lower() for char in string if char.isalnum())\n",
        "\n",
        "    # Check if the cleaned string is equal to its reverse\n",
        "    return cleaned_string == cleaned_string[::-1]\n",
        "\n",
        "# Example usage\n",
        "input_string = input(\"Enter a string: \")\n",
        "\n",
        "if is_palindrome(input_string):\n",
        "    print(\"The string is a valid palindrome.\")\n",
        "else:\n",
        "    print(\"The string is not a valid palindrome.\")\n"
      ],
      "metadata": {
        "colab": {
          "base_uri": "https://localhost:8080/"
        },
        "id": "QC7mKMx6_Rsz",
        "outputId": "38ae99a7-2327-4513-d8e7-c7f9f1216479"
      },
      "execution_count": 38,
      "outputs": [
        {
          "output_type": "stream",
          "name": "stdout",
          "text": [
            "Enter a string: nayan\n",
            "The string is a valid palindrome.\n"
          ]
        }
      ]
    },
    {
      "cell_type": "markdown",
      "source": [
        "30. Implement a function to find the minimum element in a rotated sorted list."
      ],
      "metadata": {
        "id": "LfC4dAwi_Lr0"
      }
    },
    {
      "cell_type": "code",
      "source": [
        "def find_min(nums):\n",
        "    left = 0\n",
        "    right = len(nums) - 1\n",
        "\n",
        "    while left < right:\n",
        "        mid = left + (right - left) // 2\n",
        "\n",
        "        if nums[mid] > nums[right]:\n",
        "            left = mid + 1\n",
        "        else:\n",
        "            right = mid\n",
        "\n",
        "    return nums[left]\n",
        "\n",
        "# Example usage\n",
        "rotated_list = [4, 5, 6, 7, 0, 1, 2]\n",
        "\n",
        "min_element = find_min(rotated_list)\n",
        "print(\"The minimum element in the rotated list is:\", min_element)\n"
      ],
      "metadata": {
        "colab": {
          "base_uri": "https://localhost:8080/"
        },
        "id": "whS0iHhg_nCr",
        "outputId": "7cb57e57-4a2a-4998-8115-bcd1a735ceff"
      },
      "execution_count": 39,
      "outputs": [
        {
          "output_type": "stream",
          "name": "stdout",
          "text": [
            "The minimum element in the rotated list is: 0\n"
          ]
        }
      ]
    },
    {
      "cell_type": "markdown",
      "source": [
        "31. Write a program to find the sum of all even numbers in a list.\n"
      ],
      "metadata": {
        "id": "AI6a8std_pTy"
      }
    },
    {
      "cell_type": "code",
      "source": [
        "def sum_even_numbers(numbers):\n",
        "    # Initialize a variable to store the sum\n",
        "    sum_even = 0\n",
        "\n",
        "    # Iterate over each number in the list\n",
        "    for number in numbers:\n",
        "        # Check if the number is even\n",
        "        if number % 2 == 0:\n",
        "            # Add the even number to the sum\n",
        "            sum_even += number\n",
        "\n",
        "    return sum_even\n",
        "\n",
        "# Example usage\n",
        "number_list = [1, 2, 3, 4, 5, 6, 7, 8, 9, 10]\n",
        "\n",
        "result = sum_even_numbers(number_list)\n",
        "print(\"The sum of even numbers in the list is:\", result)\n"
      ],
      "metadata": {
        "colab": {
          "base_uri": "https://localhost:8080/"
        },
        "id": "9L3YLxsq_tWy",
        "outputId": "13c961c2-e5e3-4aab-f130-cc887099d085"
      },
      "execution_count": 40,
      "outputs": [
        {
          "output_type": "stream",
          "name": "stdout",
          "text": [
            "The sum of even numbers in the list is: 30\n"
          ]
        }
      ]
    },
    {
      "cell_type": "markdown",
      "source": [
        "32. Implement a function to calculate the power of a number using recursion."
      ],
      "metadata": {
        "id": "b4ubmeFa_wEi"
      }
    },
    {
      "cell_type": "code",
      "source": [
        "def power(base, exponent):\n",
        "    # Base case: exponent is 0\n",
        "    if exponent == 0:\n",
        "        return 1\n",
        "\n",
        "    # Recursive case: exponent is positive\n",
        "    elif exponent > 0:\n",
        "        return base * power(base, exponent - 1)\n",
        "\n",
        "    # Recursive case: exponent is negative\n",
        "    else:\n",
        "        return 1 / base * power(base, exponent + 1)\n",
        "\n",
        "# Example usage\n",
        "base = float(input(\"Enter the base number: \"))\n",
        "exponent = int(input(\"Enter the exponent: \"))\n",
        "\n",
        "result = power(base, exponent)\n",
        "print(\"The result of\", base, \"raised to the power of\", exponent, \"is:\", result)\n"
      ],
      "metadata": {
        "colab": {
          "base_uri": "https://localhost:8080/"
        },
        "id": "XRdpI5pV_z1i",
        "outputId": "d540810e-a891-4084-957e-d23445950410"
      },
      "execution_count": 41,
      "outputs": [
        {
          "output_type": "stream",
          "name": "stdout",
          "text": [
            "Enter the base number: 5\n",
            "Enter the exponent: 2\n",
            "The result of 5.0 raised to the power of 2 is: 25.0\n"
          ]
        }
      ]
    },
    {
      "cell_type": "markdown",
      "source": [
        "33. Write a Python program to remove duplicates from a list while preserving the order.\n"
      ],
      "metadata": {
        "id": "gcakUda6_4Pa"
      }
    },
    {
      "cell_type": "code",
      "source": [
        "def remove_duplicates(lst):\n",
        "    # Create an empty list to store the unique elements\n",
        "    unique_list = []\n",
        "\n",
        "    # Iterate over the input list\n",
        "    for item in lst:\n",
        "        # Check if the element is not already in the unique list\n",
        "        if item not in unique_list:\n",
        "            # Add the element to the unique list\n",
        "            unique_list.append(item)\n",
        "\n",
        "    return unique_list\n",
        "\n",
        "# Example usage\n",
        "input_list = [1, 2, 3, 2, 4, 3, 5, 4, 6, 7, 6, 5]\n",
        "\n",
        "result = remove_duplicates(input_list)\n",
        "print(\"List after removing duplicates:\", result)\n"
      ],
      "metadata": {
        "colab": {
          "base_uri": "https://localhost:8080/"
        },
        "id": "NaH-Kz-IABG3",
        "outputId": "b2ba873c-904a-4923-ad14-fb773b10fc36"
      },
      "execution_count": 42,
      "outputs": [
        {
          "output_type": "stream",
          "name": "stdout",
          "text": [
            "List after removing duplicates: [1, 2, 3, 4, 5, 6, 7]\n"
          ]
        }
      ]
    },
    {
      "cell_type": "markdown",
      "source": [
        "34. Implement a function to find the longest common prefix among a list of strings"
      ],
      "metadata": {
        "id": "vkXsIxRBADDJ"
      }
    },
    {
      "cell_type": "code",
      "source": [
        "def longest_common_prefix(strings):\n",
        "    if not strings:\n",
        "        return \"\"\n",
        "\n",
        "    # Find the minimum length among all strings\n",
        "    min_length = min(len(s) for s in strings)\n",
        "\n",
        "    # Iterate over the characters up to the minimum length\n",
        "    for i in range(min_length):\n",
        "        # Check if all characters at index i are the same\n",
        "        if any(strings[j][i] != strings[0][i] for j in range(1, len(strings))):\n",
        "            # Return the prefix up to the mismatched character\n",
        "            return strings[0][:i]\n",
        "\n",
        "    # All characters matched up to the minimum length\n",
        "    return strings[0][:min_length]\n",
        "\n",
        "# Example usage\n",
        "string_list = [\"flower\", \"flow\", \"flight\"]\n",
        "\n",
        "result = longest_common_prefix(string_list)\n",
        "print(\"The longest common prefix is:\", result)\n"
      ],
      "metadata": {
        "colab": {
          "base_uri": "https://localhost:8080/"
        },
        "id": "PaHhzRtmABZZ",
        "outputId": "22eaf18f-853b-4790-cc08-cec88f26fa1a"
      },
      "execution_count": 43,
      "outputs": [
        {
          "output_type": "stream",
          "name": "stdout",
          "text": [
            "The longest common prefix is: fl\n"
          ]
        }
      ]
    },
    {
      "cell_type": "markdown",
      "source": [
        "35. Write a program to check if a given number is a perfect square."
      ],
      "metadata": {
        "id": "hmAVChVuAJ0x"
      }
    },
    {
      "cell_type": "code",
      "source": [
        "def is_perfect_square(num):\n",
        "    if num < 0:\n",
        "        return False\n",
        "\n",
        "    # Using the property of perfect squares\n",
        "    sqrt = int(num ** 0.5)\n",
        "    return sqrt * sqrt == num\n",
        "\n",
        "# Example usage\n",
        "number = int(input(\"Enter a number: \"))\n",
        "\n",
        "if is_perfect_square(number):\n",
        "    print(\"The number is a perfect square.\")\n",
        "else:\n",
        "    print(\"The number is not a perfect square.\")\n"
      ],
      "metadata": {
        "colab": {
          "base_uri": "https://localhost:8080/"
        },
        "id": "AV29G4buAUDR",
        "outputId": "328f3ad8-cf88-4f75-f1e5-6444468bd744"
      },
      "execution_count": 44,
      "outputs": [
        {
          "output_type": "stream",
          "name": "stdout",
          "text": [
            "Enter a number: 36\n",
            "The number is a perfect square.\n"
          ]
        }
      ]
    },
    {
      "cell_type": "markdown",
      "source": [
        "36. Implement a function to calculate the product of all elements in a list."
      ],
      "metadata": {
        "id": "ZeuGGB9XAYGg"
      }
    },
    {
      "cell_type": "code",
      "source": [
        "def calculate_product(numbers):\n",
        "    # Initialize the product as 1\n",
        "    product = 1\n",
        "\n",
        "    # Iterate over each number in the list\n",
        "    for number in numbers:\n",
        "        # Multiply the number with the current product\n",
        "        product *= number\n",
        "\n",
        "    return product\n",
        "\n",
        "# Example usage\n",
        "number_list = [2, 3, 4, 5]\n",
        "\n",
        "result = calculate_product(number_list)\n",
        "print(\"The product of all elements in the list is:\", result)\n"
      ],
      "metadata": {
        "colab": {
          "base_uri": "https://localhost:8080/"
        },
        "id": "i-IEenOMAdrg",
        "outputId": "8c40009c-96ef-4165-ef64-01951c9e4c56"
      },
      "execution_count": 45,
      "outputs": [
        {
          "output_type": "stream",
          "name": "stdout",
          "text": [
            "The product of all elements in the list is: 120\n"
          ]
        }
      ]
    },
    {
      "cell_type": "markdown",
      "source": [
        "37. Write a Python program to reverse the order of words in a sentence while preserving the word order"
      ],
      "metadata": {
        "id": "yV1P6e01AhaI"
      }
    },
    {
      "cell_type": "code",
      "source": [
        "def reverse_sentence(sentence):\n",
        "    # Split the sentence into words\n",
        "    words = sentence.split()\n",
        "\n",
        "    # Reverse the order of the words\n",
        "    reversed_words = words[::-1]\n",
        "\n",
        "    # Join the reversed words to form the reversed sentence\n",
        "    reversed_sentence = ' '.join(reversed_words)\n",
        "\n",
        "    return reversed_sentence\n",
        "\n",
        "# Example usage\n",
        "input_sentence = input(\"Enter a sentence: \")\n",
        "\n",
        "reversed_sentence = reverse_sentence(input_sentence)\n",
        "print(\"Reversed sentence:\", reversed_sentence)\n"
      ],
      "metadata": {
        "colab": {
          "base_uri": "https://localhost:8080/"
        },
        "id": "3U6qKNkMAhow",
        "outputId": "95b50fed-9a20-4fbe-de59-b21c85dda910"
      },
      "execution_count": 46,
      "outputs": [
        {
          "output_type": "stream",
          "name": "stdout",
          "text": [
            "Enter a sentence: hello this is nayan\n",
            "Reversed sentence: nayan is this hello\n"
          ]
        }
      ]
    },
    {
      "cell_type": "markdown",
      "source": [
        "38. Implement a function to find the missing number in a given list of consecutive numbers."
      ],
      "metadata": {
        "id": "pUmLpZJDAjPw"
      }
    },
    {
      "cell_type": "code",
      "source": [
        "def find_missing_number(numbers):\n",
        "    n = len(numbers) + 1\n",
        "    expected_sum = n * (n + 1) // 2\n",
        "    actual_sum = sum(numbers)\n",
        "    missing_number = expected_sum - actual_sum\n",
        "    return missing_number\n",
        "\n",
        "# Example usage\n",
        "number_list = [1, 2, 3, 5, 6, 7, 8, 9, 10]\n",
        "\n",
        "result = find_missing_number(number_list)\n",
        "print(\"The missing number in the list is:\", result)\n"
      ],
      "metadata": {
        "colab": {
          "base_uri": "https://localhost:8080/"
        },
        "id": "-9-tq3FXAeRz",
        "outputId": "789b0876-c895-4782-9676-c1a3243d6b28"
      },
      "execution_count": 47,
      "outputs": [
        {
          "output_type": "stream",
          "name": "stdout",
          "text": [
            "The missing number in the list is: 4\n"
          ]
        }
      ]
    },
    {
      "cell_type": "markdown",
      "source": [
        "39. Write a program to find the sum of digits of a given number."
      ],
      "metadata": {
        "id": "DtuWA-5VA0HH"
      }
    },
    {
      "cell_type": "code",
      "source": [
        "def sum_of_digits(number):\n",
        "    # Convert the number to a string\n",
        "    number_str = str(number)\n",
        "\n",
        "    # Initialize a variable to store the sum of digits\n",
        "    digit_sum = 0\n",
        "\n",
        "    # Iterate over each character in the string\n",
        "    for digit in number_str:\n",
        "        # Convert the character back to an integer and add it to the sum\n",
        "        digit_sum += int(digit)\n",
        "\n",
        "    return digit_sum\n",
        "\n",
        "# Example usage\n",
        "input_number = int(input(\"Enter a number: \"))\n",
        "\n",
        "result = sum_of_digits(input_number)\n",
        "print(\"The sum of digits of the number is:\", result)\n"
      ],
      "metadata": {
        "colab": {
          "base_uri": "https://localhost:8080/"
        },
        "id": "drtGLYiZA1Kn",
        "outputId": "7865f6e4-21b5-4d9f-c1c9-5e8199ceebf5"
      },
      "execution_count": 48,
      "outputs": [
        {
          "output_type": "stream",
          "name": "stdout",
          "text": [
            "Enter a number: 258\n",
            "The sum of digits of the number is: 15\n"
          ]
        }
      ]
    },
    {
      "cell_type": "markdown",
      "source": [
        "40. Implement a function to check if a given string is a valid palindrome considering case sensitivity."
      ],
      "metadata": {
        "id": "MvzQK-tiA_N3"
      }
    },
    {
      "cell_type": "code",
      "source": [
        "def is_palindrome(string):\n",
        "    # Remove whitespace and convert to lowercase\n",
        "    cleaned_string = ''.join(string.split()).lower()\n",
        "\n",
        "    # Check if the cleaned string is equal to its reverse\n",
        "    return cleaned_string == cleaned_string[::-1]\n",
        "\n",
        "# Example usage\n",
        "input_string = input(\"Enter a string: \")\n",
        "\n",
        "if is_palindrome(input_string):\n",
        "    print(\"The string is a valid palindrome.\")\n",
        "else:\n",
        "    print(\"The string is not a valid palindrome.\")\n"
      ],
      "metadata": {
        "colab": {
          "base_uri": "https://localhost:8080/"
        },
        "id": "5ey8csiwBEff",
        "outputId": "0c4ee63e-1984-44ab-e43c-d0b327361099"
      },
      "execution_count": 49,
      "outputs": [
        {
          "output_type": "stream",
          "name": "stdout",
          "text": [
            "Enter a string: nayan\n",
            "The string is a valid palindrome.\n"
          ]
        }
      ]
    },
    {
      "cell_type": "markdown",
      "source": [
        "41. Write a Python program to find the smallest missing positive integer in a list.\n"
      ],
      "metadata": {
        "id": "dn8XUE6cBJuu"
      }
    },
    {
      "cell_type": "code",
      "source": [
        "def find_smallest_missing_positive(nums):\n",
        "    # Move all positive numbers to the front of the list\n",
        "    j = 0\n",
        "    for i in range(len(nums)):\n",
        "        if nums[i] > 0:\n",
        "            nums[i], nums[j] = nums[j], nums[i]\n",
        "            j += 1\n",
        "\n",
        "    # Consider only positive numbers in the modified list\n",
        "    nums = nums[:j]\n",
        "\n",
        "    # Mark the presence of positive numbers by making corresponding indices negative\n",
        "    for num in nums:\n",
        "        index = abs(num) - 1\n",
        "        if index < j:\n",
        "            nums[index] = -abs(nums[index])\n",
        "\n",
        "    # Find the smallest missing positive integer\n",
        "    for i in range(j):\n",
        "        if nums[i] > 0:\n",
        "            return i + 1\n",
        "\n",
        "    # If all positive integers from 1 to j are present, the smallest missing positive is j+1\n",
        "    return j + 1\n",
        "\n",
        "# Example usage\n",
        "number_list = [3, 4, -1, 1, 5, -2, 6, 2]\n",
        "\n",
        "result = find_smallest_missing_positive(number_list)\n",
        "print(\"The smallest missing positive integer is:\", result)\n"
      ],
      "metadata": {
        "colab": {
          "base_uri": "https://localhost:8080/"
        },
        "id": "nWUsEL2dBNbW",
        "outputId": "e3d7351b-19c5-4de7-dfff-5aa8bcaee916"
      },
      "execution_count": 50,
      "outputs": [
        {
          "output_type": "stream",
          "name": "stdout",
          "text": [
            "The smallest missing positive integer is: 7\n"
          ]
        }
      ]
    },
    {
      "cell_type": "markdown",
      "source": [
        "42.   Implement a function to find the longest palindrome substring in a given string.\n"
      ],
      "metadata": {
        "id": "a41uRxxgBNrO"
      }
    },
    {
      "cell_type": "code",
      "source": [
        "def longest_palindrome(s):\n",
        "    # Initialize variables to store the longest palindrome substring\n",
        "    start = 0\n",
        "    end = 0\n",
        "\n",
        "    # Iterate over each character as the center of a potential palindrome\n",
        "    for i in range(len(s)):\n",
        "        len1 = expand_around_center(s, i, i)     # For odd-length palindromes\n",
        "        len2 = expand_around_center(s, i, i + 1)  # For even-length palindromes\n",
        "\n",
        "        # Update the start and end indices if a longer palindrome is found\n",
        "        max_len = max(len1, len2)\n",
        "        if max_len > end - start:\n",
        "            start = i - (max_len - 1) // 2\n",
        "            end = i + max_len // 2\n",
        "\n",
        "    # Return the longest palindrome substring\n",
        "    return s[start:end + 1]\n",
        "\n",
        "# Helper function to expand around a center and find the length of a palindrome\n",
        "def expand_around_center(s, left, right):\n",
        "    while left >= 0 and right < len(s) and s[left] == s[right]:\n",
        "        left -= 1\n",
        "        right += 1\n",
        "\n",
        "    # Return the length of the palindrome\n",
        "    return right - left - 1\n",
        "\n",
        "# Example usage\n",
        "input_string = input(\"Enter a string: \")\n",
        "\n",
        "result = longest_palindrome(input_string)\n",
        "print(\"The longest palindrome substring is:\", result)\n"
      ],
      "metadata": {
        "colab": {
          "base_uri": "https://localhost:8080/"
        },
        "id": "jN5ULAVsBUQO",
        "outputId": "42e68d41-b286-45f3-f60a-dd9832c1e702"
      },
      "execution_count": 51,
      "outputs": [
        {
          "output_type": "stream",
          "name": "stdout",
          "text": [
            "Enter a string: Nayan\n",
            "The longest palindrome substring is: aya\n"
          ]
        }
      ]
    },
    {
      "cell_type": "markdown",
      "source": [
        "43. Write a program to find the number of occurrences of a given element in a list.\n",
        "\n"
      ],
      "metadata": {
        "id": "mTytGDQbBT6e"
      }
    },
    {
      "cell_type": "code",
      "source": [
        "def count_occurrences(lst, element):\n",
        "    count = 0\n",
        "    for item in lst:\n",
        "        if item == element:\n",
        "            count += 1\n",
        "    return count\n",
        "\n",
        "# Example usage\n",
        "input_list = [1, 2, 3, 2, 4, 2, 5, 2, 6, 7, 2, 8, 9, 2]\n",
        "\n",
        "element = int(input(\"Enter the element to count: \"))\n",
        "\n",
        "result = count_occurrences(input_list, element)\n",
        "print(\"The number of occurrences of\", element, \"in the list is:\", result)\n"
      ],
      "metadata": {
        "colab": {
          "base_uri": "https://localhost:8080/"
        },
        "id": "TIB1Tme_BX2o",
        "outputId": "bc8e07b1-a671-4020-b4b9-d4b1285ae5df"
      },
      "execution_count": 52,
      "outputs": [
        {
          "output_type": "stream",
          "name": "stdout",
          "text": [
            "Enter the element to count: 2\n",
            "The number of occurrences of 2 in the list is: 6\n"
          ]
        }
      ]
    },
    {
      "cell_type": "markdown",
      "source": [
        "44. Implement a function to check if a given number is a perfect number."
      ],
      "metadata": {
        "id": "1Xikb7hOBrZ1"
      }
    },
    {
      "cell_type": "code",
      "source": [
        "def is_perfect_number(number):\n",
        "    if number <= 0:\n",
        "        return False\n",
        "\n",
        "    # Find the divisors of the number and sum them\n",
        "    divisor_sum = sum(divisor for divisor in range(1, number) if number % divisor == 0)\n",
        "\n",
        "    # Check if the sum of divisors is equal to the number\n",
        "    return divisor_sum == number\n",
        "\n",
        "# Example usage\n",
        "input_number = int(input(\"Enter a number: \"))\n",
        "\n",
        "if is_perfect_number(input_number):\n",
        "    print(\"The number is a perfect number.\")\n",
        "else:\n",
        "    print(\"The number is not a perfect number.\")\n"
      ],
      "metadata": {
        "colab": {
          "base_uri": "https://localhost:8080/"
        },
        "id": "owKHGlD-BsHO",
        "outputId": "1cf158a7-51d2-4110-8b75-526fd1a7b3cf"
      },
      "execution_count": 53,
      "outputs": [
        {
          "output_type": "stream",
          "name": "stdout",
          "text": [
            "Enter a number: 169\n",
            "The number is not a perfect number.\n"
          ]
        }
      ]
    },
    {
      "cell_type": "markdown",
      "source": [
        "45. Write a Python program to remove all duplicates from a string.\n"
      ],
      "metadata": {
        "id": "cnrTuOi3B0F1"
      }
    },
    {
      "cell_type": "code",
      "source": [
        "def remove_duplicates(string):\n",
        "    # Create an empty set to store unique characters\n",
        "    unique_chars = set()\n",
        "\n",
        "    # Initialize an empty string to store the result\n",
        "    result = \"\"\n",
        "\n",
        "    # Iterate over each character in the string\n",
        "    for char in string:\n",
        "        # Check if the character is already in the set\n",
        "        if char not in unique_chars:\n",
        "            # Add the character to the set and result string\n",
        "            unique_chars.add(char)\n",
        "            result += char\n",
        "\n",
        "    return result\n",
        "\n",
        "# Example usage\n",
        "input_string = input(\"Enter a string: \")\n",
        "\n",
        "result = remove_duplicates(input_string)\n",
        "print(\"String after removing duplicates:\", result)\n"
      ],
      "metadata": {
        "colab": {
          "base_uri": "https://localhost:8080/"
        },
        "id": "QVC-obwoB7R8",
        "outputId": "73856ac6-56dc-4aa2-88c6-b06b299e9283"
      },
      "execution_count": 55,
      "outputs": [
        {
          "output_type": "stream",
          "name": "stdout",
          "text": [
            "Enter a string: hello\n",
            "String after removing duplicates: helo\n"
          ]
        }
      ]
    },
    {
      "cell_type": "markdown",
      "source": [
        "46. Implement a function to find the first missing positive"
      ],
      "metadata": {
        "id": "9aNXtgI3B7jE"
      }
    },
    {
      "cell_type": "code",
      "source": [
        "def find_first_missing_positive(nums):\n",
        "    n = len(nums)\n",
        "\n",
        "    # Separate positive numbers from non-positive numbers\n",
        "    for i in range(n):\n",
        "        while 1 <= nums[i] <= n and nums[nums[i] - 1] != nums[i]:\n",
        "            nums[nums[i] - 1], nums[i] = nums[i], nums[nums[i] - 1]\n",
        "\n",
        "    # Find the first missing positive number\n",
        "    for i in range(n):\n",
        "        if nums[i] != i + 1:\n",
        "            return i + 1\n",
        "\n",
        "    # If all positive integers from 1 to n are present, the first missing positive is n+1\n",
        "    return n + 1\n",
        "\n",
        "# Example usage\n",
        "number_list = [3, 4, -1, 1, 5, -2, 6, 2]\n",
        "\n",
        "result = find_first_missing_positive(number_list)\n",
        "print(\"The first missing positive integer is:\", result)\n"
      ],
      "metadata": {
        "colab": {
          "base_uri": "https://localhost:8080/"
        },
        "id": "kfKxSAb9B77M",
        "outputId": "0e19e965-6b1b-4e90-997b-a4d496602f53"
      },
      "execution_count": 56,
      "outputs": [
        {
          "output_type": "stream",
          "name": "stdout",
          "text": [
            "The first missing positive integer is: 7\n"
          ]
        }
      ]
    }
  ]
}