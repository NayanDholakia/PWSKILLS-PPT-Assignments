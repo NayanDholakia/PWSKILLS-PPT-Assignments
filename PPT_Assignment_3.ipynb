{
  "nbformat": 4,
  "nbformat_minor": 0,
  "metadata": {
    "colab": {
      "provenance": []
    },
    "kernelspec": {
      "name": "python3",
      "display_name": "Python 3"
    },
    "language_info": {
      "name": "python"
    }
  },
  "cells": [
    {
      "cell_type": "markdown",
      "source": [
        "Question 1\n",
        "Given an integer array nums of length n and an integer target, find three integers\n",
        "in nums such that the sum is closest to the target.\n",
        "Return the sum of the three integers.\n",
        "\n",
        "You may assume that each input would have exactly one solution.\n",
        "\n",
        "Example 1:\n",
        "Input: nums = [-1,2,1,-4], target = 1\n",
        "Output: 2\n",
        "\n",
        "Explanation: The sum that is closest to the target is 2. (-1 + 2 + 1 = 2)."
      ],
      "metadata": {
        "id": "wLAo7MRU14ta"
      }
    },
    {
      "cell_type": "code",
      "execution_count": 1,
      "metadata": {
        "id": "3PGEb_Dm14PP"
      },
      "outputs": [],
      "source": [
        "def threeSumClosest(nums, target):\n",
        "    nums.sort()\n",
        "    n = len(nums)\n",
        "    closestSum = float('inf')\n",
        "\n",
        "    for i in range(n - 2):\n",
        "        left = i + 1\n",
        "        right = n - 1\n",
        "\n",
        "        while left < right:\n",
        "            currentSum = nums[i] + nums[left] + nums[right]\n",
        "            if abs(currentSum - target) < abs(closestSum - target):\n",
        "                closestSum = currentSum\n",
        "\n",
        "            if currentSum > target:\n",
        "                right -= 1\n",
        "            elif currentSum < target:\n",
        "                left += 1\n",
        "            else:\n",
        "                return target\n",
        "\n",
        "    return closestSum\n"
      ]
    },
    {
      "cell_type": "code",
      "source": [
        "nums = [-1, 2, 1, -4]\n",
        "target = 1\n",
        "result = threeSumClosest(nums, target)\n",
        "print(result)  # Output: 2\n"
      ],
      "metadata": {
        "colab": {
          "base_uri": "https://localhost:8080/"
        },
        "id": "iVNqRC7X19SW",
        "outputId": "25a49e03-dd4d-4c4b-8c61-199b544fd284"
      },
      "execution_count": 2,
      "outputs": [
        {
          "output_type": "stream",
          "name": "stdout",
          "text": [
            "2\n"
          ]
        }
      ]
    },
    {
      "cell_type": "markdown",
      "source": [
        "Question 2\n",
        "Given an array nums of n integers, return an array of all the unique quadruplets\n",
        "[nums[a], nums[b], nums[c], nums[d]] such that:\n",
        "           ● 0 <= a, b, c, d < n\n",
        "           ● a, b, c, and d are distinct.\n",
        "           ● nums[a] + nums[b] + nums[c] + nums[d] == target\n",
        "\n",
        "You may return the answer in any order.\n",
        "\n",
        "Example 1:\n",
        "Input: nums = [1,0,-1,0,-2,2], target = 0\n",
        "Output: [[-2,-1,1,2],[-2,0,0,2],[-1,0,0,1]]"
      ],
      "metadata": {
        "id": "LO-19nAD2A4G"
      }
    },
    {
      "cell_type": "code",
      "source": [
        "def fourSum(nums, target):\n",
        "    nums.sort()\n",
        "    n = len(nums)\n",
        "    quadruplets = []\n",
        "\n",
        "    for a in range(n - 3):\n",
        "        if a > 0 and nums[a] == nums[a - 1]:\n",
        "            continue\n",
        "\n",
        "        for b in range(a + 1, n - 2):\n",
        "            if b > a + 1 and nums[b] == nums[b - 1]:\n",
        "                continue\n",
        "\n",
        "            left = b + 1\n",
        "            right = n - 1\n",
        "\n",
        "            while left < right:\n",
        "                currentSum = nums[a] + nums[b] + nums[left] + nums[right]\n",
        "\n",
        "                if currentSum == target:\n",
        "                    quadruplets.append([nums[a], nums[b], nums[left], nums[right]])\n",
        "\n",
        "                    while left < right and nums[left] == nums[left + 1]:\n",
        "                        left += 1\n",
        "                    while left < right and nums[right] == nums[right - 1]:\n",
        "                        right -= 1\n",
        "\n",
        "                    left += 1\n",
        "                    right -= 1\n",
        "                elif currentSum < target:\n",
        "                    left += 1\n",
        "                else:\n",
        "                    right -= 1\n",
        "\n",
        "    return quadruplets\n"
      ],
      "metadata": {
        "id": "y4SM39Be2HwG"
      },
      "execution_count": 3,
      "outputs": []
    },
    {
      "cell_type": "code",
      "source": [
        "nums = [1, 0, -1, 0, -2, 2]\n",
        "target = 0\n",
        "result = fourSum(nums, target)\n",
        "print(result)\n"
      ],
      "metadata": {
        "colab": {
          "base_uri": "https://localhost:8080/"
        },
        "id": "6eB1ZF1H2L79",
        "outputId": "39c86183-3f25-4106-fd39-0cd71742b255"
      },
      "execution_count": 4,
      "outputs": [
        {
          "output_type": "stream",
          "name": "stdout",
          "text": [
            "[[-2, -1, 1, 2], [-2, 0, 0, 2], [-1, 0, 0, 1]]\n"
          ]
        }
      ]
    },
    {
      "cell_type": "markdown",
      "source": [
        "<aside>\n",
        "💡 **Question 3**\n",
        "A permutation of an array of integers is an arrangement of its members into a\n",
        "sequence or linear order.\n",
        "\n",
        "For example, for arr = [1,2,3], the following are all the permutations of arr:\n",
        "[1,2,3], [1,3,2], [2, 1, 3], [2, 3, 1], [3,1,2], [3,2,1].\n",
        "\n",
        "The next permutation of an array of integers is the next lexicographically greater\n",
        "permutation of its integer. More formally, if all the permutations of the array are\n",
        "sorted in one container according to their lexicographical order, then the next\n",
        "permutation of that array is the permutation that follows it in the sorted container.\n",
        "\n",
        "If such an arrangement is not possible, the array must be rearranged as the\n",
        "lowest possible order (i.e., sorted in ascending order).\n",
        "\n",
        "● For example, the next permutation of arr = [1,2,3] is [1,3,2].\n",
        "● Similarly, the next permutation of arr = [2,3,1] is [3,1,2].\n",
        "● While the next permutation of arr = [3,2,1] is [1,2,3] because [3,2,1] does not\n",
        "have a lexicographical larger rearrangement.\n",
        "\n",
        "Given an array of integers nums, find the next permutation of nums.\n",
        "The replacement must be in place and use only constant extra memory.\n",
        "\n",
        "**Example 1:**\n",
        "Input: nums = [1,2,3]\n",
        "Output: [1,3,2]\n",
        "\n"
      ],
      "metadata": {
        "id": "3n4oGX5w2Vn9"
      }
    },
    {
      "cell_type": "code",
      "source": [
        "def nextPermutation(nums):\n",
        "    n = len(nums)\n",
        "    i = n - 2\n",
        "\n",
        "    while i >= 0 and nums[i] >= nums[i + 1]:\n",
        "        i -= 1\n",
        "\n",
        "    if i >= 0:\n",
        "        j = n - 1\n",
        "        while j > i and nums[j] <= nums[i]:\n",
        "            j -= 1\n",
        "        nums[i], nums[j] = nums[j], nums[i]\n",
        "\n",
        "    left = i + 1\n",
        "    right = n - 1\n",
        "    while left < right:\n",
        "        nums[left], nums[right] = nums[right], nums[left]\n",
        "        left += 1\n",
        "        right -= 1\n",
        "\n",
        "    return nums\n"
      ],
      "metadata": {
        "id": "0amoxtQI2XAt"
      },
      "execution_count": 5,
      "outputs": []
    },
    {
      "cell_type": "code",
      "source": [
        "nums = [1, 2, 3]\n",
        "result = nextPermutation(nums)\n",
        "print(result)  # Output: [1, 3, 2]"
      ],
      "metadata": {
        "colab": {
          "base_uri": "https://localhost:8080/"
        },
        "id": "6_4jnDmt4P53",
        "outputId": "7cb93780-8b08-4893-ef21-98ddcd975ffb"
      },
      "execution_count": 6,
      "outputs": [
        {
          "output_type": "stream",
          "name": "stdout",
          "text": [
            "[1, 3, 2]\n"
          ]
        }
      ]
    },
    {
      "cell_type": "markdown",
      "source": [
        "Question 4\n",
        "Given a sorted array of distinct integers and a target value, return the index if the\n",
        "target is found. If not, return the index where it would be if it were inserted in\n",
        "order.\n",
        "\n",
        "You must write an algorithm with O(log n) runtime complexity.\n",
        "\n",
        "Example 1:\n",
        "Input: nums = [1,3,5,6], target = 5\n",
        "Output: 2"
      ],
      "metadata": {
        "id": "bEhuZIWX4RDH"
      }
    },
    {
      "cell_type": "code",
      "source": [
        "def searchInsert(nums, target):\n",
        "    left = 0\n",
        "    right = len(nums) - 1\n",
        "\n",
        "    while left <= right:\n",
        "        mid = left + (right - left) // 2\n",
        "\n",
        "        if nums[mid] == target:\n",
        "            return mid\n",
        "        elif nums[mid] < target:\n",
        "            left = mid + 1\n",
        "        else:\n",
        "            right = mid - 1\n",
        "\n",
        "    return left\n"
      ],
      "metadata": {
        "id": "MWRSUgqs4UX3"
      },
      "execution_count": 7,
      "outputs": []
    },
    {
      "cell_type": "code",
      "source": [
        "nums = [1, 3, 5, 6]\n",
        "target = 5\n",
        "result = searchInsert(nums, target)\n",
        "print(result)  # Output: 2\n"
      ],
      "metadata": {
        "colab": {
          "base_uri": "https://localhost:8080/"
        },
        "id": "FnXMvn804jbm",
        "outputId": "139df7c3-32d8-4da8-b23e-80bdf9a1f396"
      },
      "execution_count": 8,
      "outputs": [
        {
          "output_type": "stream",
          "name": "stdout",
          "text": [
            "2\n"
          ]
        }
      ]
    },
    {
      "cell_type": "markdown",
      "source": [
        "\n",
        "💡 **Question 5**\n",
        "You are given a large integer represented as an integer array digits, where each\n",
        "digits[i] is the ith digit of the integer. The digits are ordered from most significant\n",
        "to least significant in left-to-right order. The large integer does not contain any\n",
        "leading 0's.\n",
        "\n",
        "Increment the large integer by one and return the resulting array of digits.\n",
        "\n",
        "**Example 1:**\n",
        "Input: digits = [1,2,3]\n",
        "Output: [1,2,4]\n",
        "\n",
        "**Explanation:** The array represents the integer 123.\n",
        "Incrementing by one gives 123 + 1 = 124.\n",
        "Thus, the result should be [1,2,4].\n",
        "\n"
      ],
      "metadata": {
        "id": "P_5JHXl84mt-"
      }
    },
    {
      "cell_type": "code",
      "source": [
        "def plusOne(digits):\n",
        "    n = len(digits)\n",
        "    carry = 1\n",
        "\n",
        "    for i in range(n - 1, -1, -1):\n",
        "        digits[i] += carry\n",
        "        carry = digits[i] // 10\n",
        "        digits[i] %= 10\n",
        "\n",
        "    if carry == 1:\n",
        "        digits.insert(0, 1)\n",
        "\n",
        "    return digits\n"
      ],
      "metadata": {
        "id": "6bB9xu4Z4rTW"
      },
      "execution_count": 9,
      "outputs": []
    },
    {
      "cell_type": "code",
      "source": [
        "digits = [1, 2, 3]\n",
        "result = plusOne(digits)\n",
        "print(result)  # Output: [1, 2, 4]\n"
      ],
      "metadata": {
        "colab": {
          "base_uri": "https://localhost:8080/"
        },
        "id": "rj_zCy2Y4z4-",
        "outputId": "81b3a3d5-db02-43b4-b266-160a8c41ef65"
      },
      "execution_count": 10,
      "outputs": [
        {
          "output_type": "stream",
          "name": "stdout",
          "text": [
            "[1, 2, 4]\n"
          ]
        }
      ]
    },
    {
      "cell_type": "markdown",
      "source": [
        "Question 6\n",
        "Given a non-empty array of integers nums, every element appears twice except\n",
        "for one. Find that single one.\n",
        "\n",
        "You must implement a solution with a linear runtime complexity and use only\n",
        "constant extra space.\n",
        "\n",
        "Example 1:\n",
        "Input: nums = [2,2,1]\n",
        "Output: 1"
      ],
      "metadata": {
        "id": "Vec6rula42D1"
      }
    },
    {
      "cell_type": "code",
      "source": [
        "def singleNumber(nums):\n",
        "    result = 0\n",
        "\n",
        "    for num in nums:\n",
        "        result ^= num\n",
        "\n",
        "    return result\n"
      ],
      "metadata": {
        "id": "0kVdy3ds45i8"
      },
      "execution_count": 11,
      "outputs": []
    },
    {
      "cell_type": "code",
      "source": [
        "nums = [2, 2, 1]\n",
        "result = singleNumber(nums)\n",
        "print(result)  # Output: 1\n"
      ],
      "metadata": {
        "colab": {
          "base_uri": "https://localhost:8080/"
        },
        "id": "cxWtcMO-47l8",
        "outputId": "2b0d54bd-1120-4fa9-dc37-7d5c7f2ef8a7"
      },
      "execution_count": 12,
      "outputs": [
        {
          "output_type": "stream",
          "name": "stdout",
          "text": [
            "1\n"
          ]
        }
      ]
    },
    {
      "cell_type": "markdown",
      "source": [
        "Question 7\n",
        "You are given an inclusive range [lower, upper] and a sorted unique integer array\n",
        "nums, where all elements are within the inclusive range.\n",
        "\n",
        "A number x is considered missing if x is in the range [lower, upper] and x is not in\n",
        "nums.\n",
        "\n",
        "Return the shortest sorted list of ranges that exactly covers all the missing\n",
        "numbers. That is, no element of nums is included in any of the ranges, and each\n",
        "missing number is covered by one of the ranges.\n",
        "\n",
        "Example 1:\n",
        "Input: nums = [0,1,3,50,75], lower = 0, upper = 99\n",
        "Output: [[2,2],[4,49],[51,74],[76,99]]\n",
        "\n",
        "Explanation: The ranges are:\n",
        "[2,2]\n",
        "[4,49]\n",
        "[51,74]\n",
        "[76,99]"
      ],
      "metadata": {
        "id": "xqD1Qbhf49s8"
      }
    },
    {
      "cell_type": "code",
      "source": [
        "def findMissingRanges(nums, lower, upper):\n",
        "    result = []\n",
        "\n",
        "    if lower < nums[0]:\n",
        "        result.append([lower, nums[0] - 1])\n",
        "\n",
        "    for i in range(len(nums) - 1):\n",
        "        if nums[i+1] > nums[i] + 1:\n",
        "            result.append([nums[i] + 1, nums[i+1] - 1])\n",
        "\n",
        "    if upper > nums[-1]:\n",
        "        result.append([nums[-1] + 1, upper])\n",
        "\n",
        "    return result\n"
      ],
      "metadata": {
        "id": "F8zQhx-y5HlV"
      },
      "execution_count": 13,
      "outputs": []
    },
    {
      "cell_type": "code",
      "source": [
        "nums = [0, 1, 3, 50, 75]\n",
        "lower = 0\n",
        "upper = 99\n",
        "result = findMissingRanges(nums, lower, upper)\n",
        "print(result)  # Output: [[2, 2], [4, 49], [51, 74], [76, 99]]\n"
      ],
      "metadata": {
        "colab": {
          "base_uri": "https://localhost:8080/"
        },
        "id": "HX8A5PvV5Jtk",
        "outputId": "f82346be-dbd4-4518-914e-bf731897291e"
      },
      "execution_count": 14,
      "outputs": [
        {
          "output_type": "stream",
          "name": "stdout",
          "text": [
            "[[2, 2], [4, 49], [51, 74], [76, 99]]\n"
          ]
        }
      ]
    },
    {
      "cell_type": "markdown",
      "source": [
        "Question 8\n",
        "Given an array of meeting time intervals where intervals[i] = [starti, endi],\n",
        "determine if a person could attend all meetings.\n",
        "\n",
        "Example 1:\n",
        "Input: intervals = [[0,30],[5,10],[15,20]]\n",
        "Output: false"
      ],
      "metadata": {
        "id": "BCx-Q9qB5MUb"
      }
    },
    {
      "cell_type": "code",
      "source": [
        "def canAttendMeetings(intervals):\n",
        "    intervals.sort(key=lambda x: x[0])\n",
        "\n",
        "    for i in range(1, len(intervals)):\n",
        "        if intervals[i][0] < intervals[i-1][1]:\n",
        "            return False\n",
        "\n",
        "    return True\n"
      ],
      "metadata": {
        "id": "OYmjVYwt5Otb"
      },
      "execution_count": 15,
      "outputs": []
    },
    {
      "cell_type": "code",
      "source": [
        "intervals = [[0, 30], [5, 10], [15, 20]]\n",
        "result = canAttendMeetings(intervals)\n",
        "print(result)  # Output: False\n"
      ],
      "metadata": {
        "colab": {
          "base_uri": "https://localhost:8080/"
        },
        "id": "4uqPKjx05TfL",
        "outputId": "af73e57d-8fd6-4bd2-9a87-629053faee18"
      },
      "execution_count": 16,
      "outputs": [
        {
          "output_type": "stream",
          "name": "stdout",
          "text": [
            "False\n"
          ]
        }
      ]
    }
  ]
}