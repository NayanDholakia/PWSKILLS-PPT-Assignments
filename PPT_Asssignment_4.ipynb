{
  "nbformat": 4,
  "nbformat_minor": 0,
  "metadata": {
    "colab": {
      "provenance": []
    },
    "kernelspec": {
      "name": "python3",
      "display_name": "Python 3"
    },
    "language_info": {
      "name": "python"
    }
  },
  "cells": [
    {
      "cell_type": "markdown",
      "source": [
        "\n",
        "💡 **Question 1**\n",
        "Given three integer arrays arr1, arr2 and arr3 **sorted** in **strictly increasing** order, return a sorted array of **only** the integers that appeared in **all** three arrays.\n",
        "\n",
        "**Example 1:**\n",
        "\n",
        "Input: arr1 = [1,2,3,4,5], arr2 = [1,2,5,7,9], arr3 = [1,3,4,5,8]\n",
        "\n",
        "Output: [1,5]\n",
        "\n",
        "**Explanation:** Only 1 and 5 appeared in the three arrays.\n"
      ],
      "metadata": {
        "id": "_T6KE7rY5soz"
      }
    },
    {
      "cell_type": "code",
      "execution_count": 1,
      "metadata": {
        "id": "67XmXWHi5sTv"
      },
      "outputs": [],
      "source": [
        "def find_common_elements(arr1, arr2, arr3):\n",
        "    ptr1, ptr2, ptr3 = 0, 0, 0\n",
        "    result = []\n",
        "\n",
        "    while ptr1 < len(arr1) and ptr2 < len(arr2) and ptr3 < len(arr3):\n",
        "        if arr1[ptr1] == arr2[ptr2] == arr3[ptr3]:\n",
        "            result.append(arr1[ptr1])\n",
        "            ptr1 += 1\n",
        "            ptr2 += 1\n",
        "            ptr3 += 1\n",
        "        else:\n",
        "            min_val = min(arr1[ptr1], arr2[ptr2], arr3[ptr3])\n",
        "            if min_val == arr1[ptr1]:\n",
        "                ptr1 += 1\n",
        "            elif min_val == arr2[ptr2]:\n",
        "                ptr2 += 1\n",
        "            else:\n",
        "                ptr3 += 1\n",
        "\n",
        "    return result\n"
      ]
    },
    {
      "cell_type": "code",
      "source": [
        "arr1 = [1, 2, 3, 4, 5]\n",
        "arr2 = [1, 2, 5, 7, 9]\n",
        "arr3 = [1, 3, 4, 5, 8]\n",
        "result = find_common_elements(arr1, arr2, arr3)\n",
        "print(result)\n"
      ],
      "metadata": {
        "colab": {
          "base_uri": "https://localhost:8080/"
        },
        "id": "P1kxV85H53Bx",
        "outputId": "a620a2ba-5ac8-48b0-9b2a-7584e317048e"
      },
      "execution_count": 2,
      "outputs": [
        {
          "output_type": "stream",
          "name": "stdout",
          "text": [
            "[1, 5]\n"
          ]
        }
      ]
    },
    {
      "cell_type": "markdown",
      "source": [
        "\n",
        "💡 **Question 2**\n",
        "\n",
        "Given two **0-indexed** integer arrays nums1 and nums2, return *a list* answer *of size* 2 *where:*\n",
        "\n",
        "- answer[0] *is a list of all **distinct** integers in* nums1 *which are **not** present in* nums2*.*\n",
        "- answer[1] *is a list of all **distinct** integers in* nums2 *which are **not** present in* nums1.\n",
        "\n",
        "**Note** that the integers in the lists may be returned in **any** order.\n",
        "\n",
        "**Example 1:**\n",
        "\n",
        "**Input:** nums1 = [1,2,3], nums2 = [2,4,6]\n",
        "\n",
        "**Output:** [[1,3],[4,6]]\n",
        "\n"
      ],
      "metadata": {
        "id": "ORuDJRHj6DXx"
      }
    },
    {
      "cell_type": "code",
      "source": [
        "def find_disjoint_elements(nums1, nums2):\n",
        "    set_nums1 = set(nums1)\n",
        "    set_nums2 = set(nums2)\n",
        "\n",
        "    distinct_nums1 = list(set_nums1 - set_nums2)\n",
        "    distinct_nums2 = list(set_nums2 - set_nums1)\n",
        "\n",
        "    return [distinct_nums1, distinct_nums2]\n"
      ],
      "metadata": {
        "id": "lS6s2uop6AbJ"
      },
      "execution_count": 3,
      "outputs": []
    },
    {
      "cell_type": "code",
      "source": [
        "nums1 = [1, 2, 3]\n",
        "nums2 = [2, 4, 6]\n",
        "result = find_disjoint_elements(nums1, nums2)\n",
        "print(result)\n"
      ],
      "metadata": {
        "colab": {
          "base_uri": "https://localhost:8080/"
        },
        "id": "v87Tb8zw6Ik5",
        "outputId": "0a49c72c-9403-4ec9-86f0-ee835c188abb"
      },
      "execution_count": 4,
      "outputs": [
        {
          "output_type": "stream",
          "name": "stdout",
          "text": [
            "[[1, 3], [4, 6]]\n"
          ]
        }
      ]
    },
    {
      "cell_type": "markdown",
      "source": [
        "💡 **Question 3**\n",
        "Given a 2D integer array matrix, return *the **transpose** of* matrix.\n",
        "\n",
        "The **transpose** of a matrix is the matrix flipped over its main diagonal, switching the matrix's row and column indices.\n",
        "\n",
        "**Example 1:**\n",
        "\n",
        "Input: matrix = [[1,2,3],[4,5,6],[7,8,9]]\n",
        "\n",
        "Output: [[1,4,7],[2,5,8],[3,6,9]]"
      ],
      "metadata": {
        "id": "fAoVC03E6Y24"
      }
    },
    {
      "cell_type": "code",
      "source": [
        "def transpose_matrix(matrix):\n",
        "    rows = len(matrix)\n",
        "    cols = len(matrix[0])\n",
        "\n",
        "    result = [[0] * rows for _ in range(cols)]\n",
        "\n",
        "    for i in range(rows):\n",
        "        for j in range(cols):\n",
        "            result[j][i] = matrix[i][j]\n",
        "\n",
        "    return result\n"
      ],
      "metadata": {
        "id": "4Nma7Q5f6Xoo"
      },
      "execution_count": 6,
      "outputs": []
    },
    {
      "cell_type": "code",
      "source": [
        "matrix = [[1, 2, 3], [4, 5, 6], [7, 8, 9]]\n",
        "result = transpose_matrix(matrix)\n",
        "print(result)\n"
      ],
      "metadata": {
        "colab": {
          "base_uri": "https://localhost:8080/"
        },
        "id": "HRSfJI4Y6emP",
        "outputId": "ff927ae4-64f5-4938-ee88-3ddba0988798"
      },
      "execution_count": 7,
      "outputs": [
        {
          "output_type": "stream",
          "name": "stdout",
          "text": [
            "[[1, 4, 7], [2, 5, 8], [3, 6, 9]]\n"
          ]
        }
      ]
    },
    {
      "cell_type": "markdown",
      "source": [
        "\n",
        "💡 **Question 4**\n",
        "Given an integer array nums of 2n integers, group these integers into n pairs (a1, b1), (a2, b2), ..., (an, bn) such that the sum of min(ai, bi) for all i is **maximized**. Return *the maximized sum*.\n",
        "\n",
        "**Example 1:**\n",
        "\n",
        "Input: nums = [1,4,3,2]\n",
        "\n",
        "Output: 4\n",
        "\n",
        "**Explanation:** All possible pairings (ignoring the ordering of elements) are:\n",
        "\n",
        "1. (1, 4), (2, 3) -> min(1, 4) + min(2, 3) = 1 + 2 = 3\n",
        "\n",
        "2. (1, 3), (2, 4) -> min(1, 3) + min(2, 4) = 1 + 2 = 3\n",
        "\n",
        "3. (1, 2), (3, 4) -> min(1, 2) + min(3, 4) = 1 + 3 = 4\n",
        "\n",
        "So the maximum possible sum is 4.\n",
        "\n"
      ],
      "metadata": {
        "id": "jfB61PbF6lPX"
      }
    },
    {
      "cell_type": "code",
      "source": [
        "def array_pair_sum(nums):\n",
        "    nums.sort()\n",
        "    max_sum = 0\n",
        "\n",
        "    for i in range(0, len(nums), 2):\n",
        "        max_sum += nums[i]\n",
        "\n",
        "    return max_sum\n"
      ],
      "metadata": {
        "id": "nOiyzQNa6oEf"
      },
      "execution_count": 8,
      "outputs": []
    },
    {
      "cell_type": "code",
      "source": [
        "nums = [1, 4, 3, 2]\n",
        "result = array_pair_sum(nums)\n",
        "print(result)\n"
      ],
      "metadata": {
        "colab": {
          "base_uri": "https://localhost:8080/"
        },
        "id": "USdnQ0WU6rn2",
        "outputId": "cfbd42e0-dbc3-42a7-9ea3-6b47225400ac"
      },
      "execution_count": 9,
      "outputs": [
        {
          "output_type": "stream",
          "name": "stdout",
          "text": [
            "4\n"
          ]
        }
      ]
    },
    {
      "cell_type": "markdown",
      "source": [
        "<aside>\n",
        "💡 **uestion 5**\n",
        "You have n coins and you want to build a staircase with these coins. The staircase consists of k rows where the ith row has exactly i coins. The last row of the staircase **may be** incomplete.\n",
        "\n",
        "Given the integer n, return *the number of **complete rows** of the staircase you will build*.\n",
        "\n",
        "**Example 1:**\n",
        "\n",
        "[]()\n",
        "\n",
        "![v2.jpg](https://s3-us-west-2.amazonaws.com/secure.notion-static.com/4bd91cfa-d2b1-47b3-8197-a72e8dcfff4b/v2.jpg)\n",
        "\n",
        "**Input:** n = 5\n",
        "\n",
        "**Output:** 2\n",
        "\n",
        "</aside>"
      ],
      "metadata": {
        "id": "y49cEQiy6sW_"
      }
    },
    {
      "cell_type": "code",
      "source": [
        "def arrange_coins(n):\n",
        "    rows = 0\n",
        "    i = 1\n",
        "\n",
        "    while n >= i:\n",
        "        rows += 1\n",
        "        n -= i\n",
        "        i += 1\n",
        "\n",
        "    return rows\n"
      ],
      "metadata": {
        "id": "ynSbSmJ-6zd2"
      },
      "execution_count": 10,
      "outputs": []
    },
    {
      "cell_type": "code",
      "source": [
        "n = 5\n",
        "result = arrange_coins(n)\n",
        "print(result)\n"
      ],
      "metadata": {
        "colab": {
          "base_uri": "https://localhost:8080/"
        },
        "id": "qQGoFRU761vv",
        "outputId": "659bfbb9-a67e-4028-8185-c6ab2c75fc19"
      },
      "execution_count": 11,
      "outputs": [
        {
          "metadata": {
            "tags": null
          },
          "name": "stdout",
          "output_type": "stream",
          "text": [
            "2\n"
          ]
        }
      ]
    },
    {
      "cell_type": "markdown",
      "source": [
        "\n",
        "💡 **Question 6**\n",
        "Given an integer array nums sorted in **non-decreasing** order, return *an array of **the squares of each number** sorted in non-decreasing order*.\n",
        "\n",
        "**Example 1:**\n",
        "\n",
        "Input: nums = [-4,-1,0,3,10]\n",
        "\n",
        "Output: [0,1,9,16,100]\n",
        "\n",
        "**Explanation:** After squaring, the array becomes [16,1,0,9,100].\n",
        "After sorting, it becomes [0,1,9,16,100]\n",
        "\n"
      ],
      "metadata": {
        "id": "x_8eQdjR696-"
      }
    },
    {
      "cell_type": "code",
      "source": [
        "def sorted_squares(nums):\n",
        "    squared_nums = []\n",
        "\n",
        "    for num in nums:\n",
        "        squared = num * num\n",
        "        squared_nums.append(squared)\n",
        "\n",
        "    squared_nums.sort()\n",
        "\n",
        "    return squared_nums\n"
      ],
      "metadata": {
        "id": "6sOkXfe37Ee-"
      },
      "execution_count": 12,
      "outputs": []
    },
    {
      "cell_type": "code",
      "source": [
        "nums = [-4, -1, 0, 3, 10]\n",
        "result = sorted_squares(nums)\n",
        "print(result)\n"
      ],
      "metadata": {
        "colab": {
          "base_uri": "https://localhost:8080/"
        },
        "id": "89ENGc097H29",
        "outputId": "f94e6bd9-61d2-4198-c55a-63ee0bf7b4df"
      },
      "execution_count": 13,
      "outputs": [
        {
          "metadata": {
            "tags": null
          },
          "name": "stdout",
          "output_type": "stream",
          "text": [
            "[0, 1, 9, 16, 100]\n"
          ]
        }
      ]
    },
    {
      "cell_type": "markdown",
      "source": [
        "\n",
        "💡 **Question 7**\n",
        "You are given an m x n matrix M initialized with all 0's and an array of operations ops, where ops[i] = [ai, bi] means M[x][y] should be incremented by one for all 0 <= x < ai and 0 <= y < bi.\n",
        "\n",
        "Count and return *the number of maximum integers in the matrix after performing all the operations*\n",
        "\n",
        "**Example 1:**\n",
        "\n",
        "![q4.jpg](https://s3-us-west-2.amazonaws.com/secure.notion-static.com/4d0890d0-7bc7-4f59-be8e-352d9f3c1c52/q4.jpg)\n",
        "\n",
        "**Input:** m = 3, n = 3, ops = [[2,2],[3,3]]\n",
        "\n",
        "**Output:** 4\n",
        "\n"
      ],
      "metadata": {
        "id": "3JlSLw8t7Jy9"
      }
    },
    {
      "cell_type": "code",
      "source": [
        "def max_count(m, n, ops):\n",
        "    min_row = m\n",
        "    min_col = n\n",
        "\n",
        "    for op in ops:\n",
        "        min_row = min(min_row, op[0])\n",
        "        min_col = min(min_col, op[1])\n",
        "\n",
        "    return min_row * min_col\n"
      ],
      "metadata": {
        "id": "sLXL6VH47QP8"
      },
      "execution_count": 14,
      "outputs": []
    },
    {
      "cell_type": "code",
      "source": [
        "m = 3\n",
        "n = 3\n",
        "ops = [[2, 2], [3, 3]]\n",
        "result = max_count(m, n, ops)\n",
        "print(result)\n"
      ],
      "metadata": {
        "colab": {
          "base_uri": "https://localhost:8080/"
        },
        "id": "ITyPyELP7TdE",
        "outputId": "e93a02e5-deed-4e34-e685-2a1bb30519d2"
      },
      "execution_count": 15,
      "outputs": [
        {
          "output_type": "stream",
          "name": "stdout",
          "text": [
            "4\n"
          ]
        }
      ]
    },
    {
      "cell_type": "markdown",
      "source": [
        "\n",
        "💡 **Question 8**\n",
        "\n",
        "Given the array nums consisting of 2n elements in the form [x1,x2,...,xn,y1,y2,...,yn].\n",
        "\n",
        "*Return the array in the form* [x1,y1,x2,y2,...,xn,yn].\n",
        "\n",
        "**Example 1:**\n",
        "\n",
        "**Input:** nums = [2,5,1,3,4,7], n = 3\n",
        "\n",
        "**Output:** [2,3,5,4,1,7]\n",
        "\n",
        "**Explanation:** Since x1=2, x2=5, x3=1, y1=3, y2=4, y3=7 then the answer is [2,3,5,4,1,7].\n"
      ],
      "metadata": {
        "id": "OPbH21th7VPk"
      }
    },
    {
      "cell_type": "code",
      "source": [
        "def shuffle_array(nums, n):\n",
        "    result = []\n",
        "\n",
        "    for i in range(n):\n",
        "        result.append(nums[i])\n",
        "        result.append(nums[i+n])\n",
        "\n",
        "    return result\n"
      ],
      "metadata": {
        "id": "hUKW3B8U7Zyw"
      },
      "execution_count": 16,
      "outputs": []
    },
    {
      "cell_type": "code",
      "source": [
        "nums = [2, 5, 1, 3, 4, 7]\n",
        "n = 3\n",
        "result = shuffle_array(nums, n)\n",
        "print(result)\n"
      ],
      "metadata": {
        "colab": {
          "base_uri": "https://localhost:8080/"
        },
        "id": "YtPjqS3U7gCc",
        "outputId": "ca120839-e950-4998-efbe-d8550e4b360e"
      },
      "execution_count": 17,
      "outputs": [
        {
          "output_type": "stream",
          "name": "stdout",
          "text": [
            "[2, 3, 5, 4, 1, 7]\n"
          ]
        }
      ]
    }
  ]
}